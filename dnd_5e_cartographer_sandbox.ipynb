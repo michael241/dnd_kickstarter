{
 "cells": [
  {
   "cell_type": "code",
   "execution_count": 1,
   "id": "eff5143c-1143-4d61-a167-d0c6d09fb4b5",
   "metadata": {},
   "outputs": [],
   "source": [
    "%load_ext autoreload\n",
    "%autoreload 2"
   ]
  },
  {
   "cell_type": "markdown",
   "id": "5d9d73fe-1b1c-4f6c-86f9-301f0aae1984",
   "metadata": {},
   "source": [
    "# Purpose: Easy to use package for making maps with rules, rather than hand entry "
   ]
  },
  {
   "cell_type": "markdown",
   "id": "36dc37c6-df75-4826-a691-3833eaacf4ad",
   "metadata": {},
   "source": [
    "# 0.0 imports "
   ]
  },
  {
   "cell_type": "code",
   "execution_count": 2,
   "id": "6c742037-40de-42bc-bdd0-00e6b8cebaea",
   "metadata": {},
   "outputs": [],
   "source": [
    "import numpy as np\n",
    "from SquareGraph import * "
   ]
  },
  {
   "cell_type": "markdown",
   "id": "3a07b169-4233-4ea2-900b-04b0d003ab9f",
   "metadata": {},
   "source": [
    "# 1.0 Map Builder "
   ]
  },
  {
   "cell_type": "code",
   "execution_count": 21,
   "id": "ef5e9880-ae4a-43fb-9c24-edbf4ee98ec2",
   "metadata": {},
   "outputs": [],
   "source": [
    "class Cartographer:\n",
    "    \"\"\"make maps, with commands rather than handwriting\"\"\"\n",
    "    \n",
    "    def _init_(self,map_holder=None,x_min=0,y_min=0,x_max=25,y_max=25):\n",
    "        self.map_holder = map_holder\n",
    "        self.x_min = 0\n",
    "        self.y_min = 0\n",
    "        self.x_max = 0\n",
    "        self.y_max = 0\n",
    "    \n",
    "    def Background(self,x,y,b=\"OOO\",l=\"w\",d=5):\n",
    "        \"\"\" make the background object that we can then edit \"\"\"\n",
    "        \n",
    "        #set up new map\n",
    "        new_map_holder = []\n",
    "        \n",
    "        #iterate through all x and y cominations to fill out complete grid\n",
    "        for x_current in range(x):\n",
    "            for y_current in range(y):\n",
    "                \n",
    "                #populate each square \n",
    "                new_map_holder += [Square(x_current,y_current,b=b,l=l,d=d)]\n",
    "                \n",
    "                \n",
    "        #set map\n",
    "        self.map_holder = new_map_holder\n",
    "        self.x_min = 0\n",
    "        self.y_min = 0\n",
    "        self.x_max = x\n",
    "        self.y_max = y\n",
    "        \n",
    "    def UpdateSquare(self,x,y,b,l):\n",
    "        \"\"\"for a specfic square in the list swap it out for this new one\"\"\"\n",
    "        self.map_holder[x+(y*(self.x_max-self.x_min))].b = b\n",
    "        self.map_holder[x+(y*(self.x_max-self.x_min))].l = l\n",
    "        \n",
    "    def UpdateArea(self,x_start,y_start,x_end,y_end,b=\"000\",l=\"w\",edge_maker=False):\n",
    "        \"\"\"update a specific area with new color and borders\n",
    "        \n",
    "        Attribute:\n",
    "            x_start: lowest x\n",
    "            y_start: lowest y \n",
    "            x_end: highest x (inclusive)\n",
    "            y_end: highest y (inclusive)\n",
    "        \"\"\"\n",
    "        \n",
    "        #target list,overall\n",
    "        xy = []\n",
    "        for x_finder in np.arange(x_start,x_end+1,1):\n",
    "            for y_finder in np.arange(y_start,y_end+1,1):\n",
    "                xy += [(x_finder,y_finder)]\n",
    "                \n",
    "                \n",
    "        #iterate through and assign values \n",
    "        for node in xy:\n",
    "            self.UpdateSquare(x=node[0],y=node[1],b=b,l=l)\n",
    "        \n",
    "\n",
    "    def Show(self):\n",
    "        \"\"\"in the proper grid format, show the network\"\"\"\n",
    "        \n",
    "        #work way from top left to bottom right\n",
    "        print(\"[\")\n",
    "        for y in np.arange(self.y_max-1,-1,-1):\n",
    "            print(\"\".join([z.Show() for z in self.map_holder[(self.x_max*y):(self.x_max*(y+1))]]))\n",
    "        print(\"]\")\n",
    "        "
   ]
  },
  {
   "cell_type": "markdown",
   "id": "655d87ad-089b-4a7a-8d22-f22f1b93c945",
   "metadata": {},
   "source": [
    "1.1 Reference "
   ]
  },
  {
   "cell_type": "code",
   "execution_count": 4,
   "id": "95a3292c-22dc-44b9-aec5-9f27bac5cbc2",
   "metadata": {},
   "outputs": [
    {
     "data": {
      "text/plain": [
       "[100, 1, 2]"
      ]
     },
     "execution_count": 4,
     "metadata": {},
     "output_type": "execute_result"
    }
   ],
   "source": [
    "a = [0,1,2]\n",
    "a[0] = 100\n",
    "a"
   ]
  },
  {
   "cell_type": "code",
   "execution_count": 22,
   "id": "81aca664-f70e-4915-a237-5999978e468e",
   "metadata": {},
   "outputs": [
    {
     "name": "stdout",
     "output_type": "stream",
     "text": [
      "[\n",
      "(x=4, y=0, b=\"BBB\",l=\"k\"),(x=4, y=1, b=\"000\",l=\"g\"),(x=4, y=2, b=\"000\",l=\"g\"),(x=4, y=3, b=\"000\",l=\"g\"),(x=4, y=4, b=\"000\",l=\"g\"),\n",
      "(x=3, y=0, b=\"000\",l=\"g\"),(x=3, y=1, b=\"PNW\",l=\"c\"),(x=3, y=2, b=\"PNW\",l=\"c\"),(x=3, y=3, b=\"PNW\",l=\"c\"),(x=3, y=4, b=\"000\",l=\"g\"),\n",
      "(x=2, y=0, b=\"000\",l=\"g\"),(x=2, y=1, b=\"PNW\",l=\"c\"),(x=2, y=2, b=\"PNW\",l=\"c\"),(x=2, y=3, b=\"PNW\",l=\"c\"),(x=2, y=4, b=\"000\",l=\"g\"),\n",
      "(x=1, y=0, b=\"000\",l=\"g\"),(x=1, y=1, b=\"PNW\",l=\"c\"),(x=1, y=2, b=\"PNW\",l=\"c\"),(x=1, y=3, b=\"PNW\",l=\"c\"),(x=1, y=4, b=\"000\",l=\"g\"),\n",
      "(x=0, y=0, b=\"BBB\",l=\"k\"),(x=0, y=1, b=\"000\",l=\"g\"),(x=0, y=2, b=\"000\",l=\"g\"),(x=0, y=3, b=\"000\",l=\"g\"),(x=0, y=4, b=\"BBB\",l=\"k\"),\n",
      "]\n"
     ]
    }
   ],
   "source": [
    "C = Cartographer()\n",
    "C.Background(x=5,y=5,b=\"000\",l=\"g\")\n",
    "C.UpdateSquare(0,0,\"BBB\",\"k\")\n",
    "C.UpdateSquare(4,0,\"BBB\",\"k\")\n",
    "C.UpdateSquare(0,4,\"BBB\",\"k\")\n",
    "C.UpdateSquare(2,2,\"BBB\",\"k\")\n",
    "C.UpdateArea(1,1,3,3,b=\"PNW\",l=\"c\")\n",
    "C.Show()"
   ]
  },
  {
   "cell_type": "code",
   "execution_count": null,
   "id": "ef2b9356-ca6f-4030-8b0c-e59bfac990e7",
   "metadata": {},
   "outputs": [],
   "source": []
  }
 ],
 "metadata": {
  "kernelspec": {
   "display_name": "Python 3",
   "language": "python",
   "name": "python3"
  },
  "language_info": {
   "codemirror_mode": {
    "name": "ipython",
    "version": 3
   },
   "file_extension": ".py",
   "mimetype": "text/x-python",
   "name": "python",
   "nbconvert_exporter": "python",
   "pygments_lexer": "ipython3",
   "version": "3.7.3"
  }
 },
 "nbformat": 4,
 "nbformat_minor": 5
}
