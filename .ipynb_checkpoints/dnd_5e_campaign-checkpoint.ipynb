{
 "cells": [
  {
   "cell_type": "markdown",
   "id": "6eaa61e2-d5a0-45fb-8150-6e0ef244ffd0",
   "metadata": {},
   "source": [
    "# Purpose: Size and Get Product Requirements for a Blockbuster 5e Campaign\n",
    "    * If crack formula, then go big (Gimlet for DND camapigns, professional DMs, the works)"
   ]
  },
  {
   "cell_type": "markdown",
   "id": "4acb1c8b-a9b3-4472-8c72-2819326cfe43",
   "metadata": {},
   "source": [
    "# 0.0 Imports "
   ]
  },
  {
   "cell_type": "code",
   "execution_count": 165,
   "id": "60c8154a-cf55-425f-8664-7cb1a6442ac5",
   "metadata": {},
   "outputs": [],
   "source": [
    "import requests\n",
    "import pandas as pd\n",
    "import numpy as np\n",
    "import json\n",
    "import time\n",
    "import datetime\n",
    "from bs4 import BeautifulSoup\n",
    "from collections import Counter"
   ]
  },
  {
   "cell_type": "markdown",
   "id": "f9b55e96-0f60-4b1d-b569-1c84b6ead2a8",
   "metadata": {},
   "source": [
    "# 1.0 Data Ingestion "
   ]
  },
  {
   "cell_type": "markdown",
   "id": "c9be5ef4-23b0-4c31-8b70-a937ae0e337f",
   "metadata": {},
   "source": [
    "## 1.1 Scrape Kickstarter for DND (Initial Funding)"
   ]
  },
  {
   "cell_type": "code",
   "execution_count": 2,
   "id": "b77ba4d8-6add-4f77-956f-ea18416a6db5",
   "metadata": {},
   "outputs": [],
   "source": [
    "#html_link = '''https://www.kickstarter.com/projects/arcanumworlds/odyssey-of-the-dragonlords-5th-edition-adventure-b'''\n",
    "html_link = '''https://www.kickstarter.com/projects/hitpointpress/humblewood-campaign-setting-for-5e-dnd'''"
   ]
  },
  {
   "cell_type": "markdown",
   "id": "233232cd-4d69-4918-a787-4dcf34234c1b",
   "metadata": {},
   "source": [
    "Make connection"
   ]
  },
  {
   "cell_type": "code",
   "execution_count": 3,
   "id": "28db5341-e77b-4c81-987e-538677315be1",
   "metadata": {},
   "outputs": [],
   "source": [
    "#retrieve response\n",
    "response = requests.get(html_link)\n",
    "\n",
    "#make response usable\n",
    "s = BeautifulSoup(response.text, 'html.parser')"
   ]
  },
  {
   "cell_type": "markdown",
   "id": "25761503-99cb-40d6-910b-a76aee0e01b8",
   "metadata": {},
   "source": [
    "Surface basic information"
   ]
  },
  {
   "cell_type": "code",
   "execution_count": 4,
   "id": "48f95e7b-1e4b-41da-891b-b7b8c7705ed2",
   "metadata": {},
   "outputs": [
    {
     "name": "stdout",
     "output_type": "stream",
     "text": [
      "title:  Humblewood Campaign Setting for 5e DND by Hit Point Press — Kickstarter\n"
     ]
    }
   ],
   "source": [
    "print('title: ',s.title.string)"
   ]
  },
  {
   "cell_type": "code",
   "execution_count": 5,
   "id": "b3113d4a-ed84-4dbb-9382-b1e6f7c03ee9",
   "metadata": {},
   "outputs": [
    {
     "data": {
      "text/plain": [
       "'14,604 backers'"
      ]
     },
     "execution_count": 5,
     "metadata": {},
     "output_type": "execute_result"
    }
   ],
   "source": [
    "#number of backers\n",
    "s.find('b').get_text()"
   ]
  },
  {
   "cell_type": "markdown",
   "id": "aab36b37-00c3-49bf-93c4-812a93211f7a",
   "metadata": {},
   "source": [
    "Total Amount Raised"
   ]
  },
  {
   "cell_type": "code",
   "execution_count": 6,
   "id": "9ddadcfd-f453-456b-872d-b5f150128632",
   "metadata": {},
   "outputs": [
    {
     "data": {
      "text/plain": [
       "'$1001085'"
      ]
     },
     "execution_count": 6,
     "metadata": {},
     "output_type": "execute_result"
    }
   ],
   "source": [
    "[x.string.replace(\"US\",\"\").replace(\",\",\"\").replace(\" \",\"\") for x in s.find_all('span',{'class':'money'})][0]"
   ]
  },
  {
   "cell_type": "markdown",
   "id": "e4793e31-21b7-4eb1-832a-7fc7db1d9e6e",
   "metadata": {},
   "source": [
    "Threshold for success"
   ]
  },
  {
   "cell_type": "code",
   "execution_count": 7,
   "id": "dcce70b7-dcfc-4c7d-8cd0-efe1cb016db7",
   "metadata": {},
   "outputs": [
    {
     "data": {
      "text/plain": [
       "'$20000'"
      ]
     },
     "execution_count": 7,
     "metadata": {},
     "output_type": "execute_result"
    }
   ],
   "source": [
    "[x.string.replace(\"US\",\"\").replace(\",\",\"\").replace(\" \",\"\") for x in s.find_all('span',{'class':'money'})][2]"
   ]
  },
  {
   "cell_type": "markdown",
   "id": "5409b91c-19bc-4786-9b45-145078d6799e",
   "metadata": {},
   "source": [
    "Pledge Categories and value "
   ]
  },
  {
   "cell_type": "code",
   "execution_count": 8,
   "id": "676b46f2-ad5b-4ed2-be95-f53697591e9b",
   "metadata": {},
   "outputs": [],
   "source": [
    "pledge_title = [x.text.replace(\"\\n\",\"\") for x in s.find_all(\"h3\",{\"class\":\"pledge__title\"})]\n",
    "pledge_value = [x.text.split(\" \")[-1].replace(\"\\n\",\"\").replace(\"$\",\"\") for x in s.find_all(\"h2\",{\"class\":\"pledge__amount\"})]\n",
    "pledge_desc = [\" \".join([x.string for x in x.find_all(\"p\") ]+[x.text for x in x.find_all(\"li\")]) for x in s.find_all(\"div\",{'class':\"pledge__reward-description--expanded\"})]"
   ]
  },
  {
   "cell_type": "markdown",
   "id": "7893c167-5d5e-413e-a862-3b0106da9377",
   "metadata": {},
   "source": [
    "Pledge Titles and Thresholds"
   ]
  },
  {
   "cell_type": "code",
   "execution_count": 9,
   "id": "d7c75bf7-8c96-4b26-94ac-9ec5fb2bee83",
   "metadata": {},
   "outputs": [
    {
     "data": {
      "text/plain": [
       "{\"Deluxe Print'N Play PDF\": '10',\n",
       " 'Humblewood Reference Card Deck': '20',\n",
       " 'Hardcover Humblewood Campaign Book': '30',\n",
       " 'Set of 5 Minis': '30',\n",
       " 'Humblewood Box Set': '50',\n",
       " 'Alderheart Box Set': '100',\n",
       " 'Everden Collection': '300'}"
      ]
     },
     "execution_count": 9,
     "metadata": {},
     "output_type": "execute_result"
    }
   ],
   "source": [
    "{x[0]:x[1] for x in zip(pledge_title,pledge_value)}"
   ]
  },
  {
   "cell_type": "code",
   "execution_count": 10,
   "id": "e5dbf6a2-b340-4031-a407-6cf6b3caea3b",
   "metadata": {},
   "outputs": [
    {
     "data": {
      "text/plain": [
       "{\"Deluxe Print'N Play PDF\": \"Get access to our fully designed Printable PDFs (book version), includes printable reference cards, maps, and standees. \\nPDF - Deluxe Print'N Play PDF\\n\",\n",
       " 'Humblewood Reference Card Deck': \"40+ Card Deck of all the monsters, npcs, weapons and spells. Shipping: US/CAN $6, Worldwide: $15 \\nPDF - Deluxe Print'N Play PDF\\n \\nDeck - Humblewood Reference Cards\\n\",\n",
       " 'Hardcover Humblewood Campaign Book': \"First Edition, 100+ page hardcover edition of Humblewood Shipping: US/CAN $10, Worldwide: $25 \\nPDF - Deluxe Print'N Play PDF\\n \\nBook - Hardcover Humblewood Campaign\\n\",\n",
       " 'Set of 5 Minis': \"Set of 5 minis. Standard 25-28mm scale.  Shipping: US/CAN $15, Worldwide: $35 \\nSet of 5 Minis\\n \\nPDF - Deluxe Print'N Play PDF\\n\",\n",
       " 'Humblewood Box Set': \"Everything you need to get started. Shipping: US/CAN $15, Worldwide: $35 \\nPDF - Deluxe Print'N Play PDF\\n \\nDeck - Humblewood Reference Cards\\n \\nBook - Hardcover Humblewood Campaign\\n \\nStandees - Cardboard Punch Outs + Bases\\n \\nBattle Maps - Double Sided, Fold Out, Paper\\n \\nWorld Map - Fold Out, Paper\\n\",\n",
       " 'Alderheart Box Set': \"For those who want to be more immersed in the world and its items. Shipping: US/CAN $17, Worldwide: $39 \\nPDF - Deluxe Print'N Play PDF\\n \\nDeck - Humblewood Reference Cards\\n \\nDeluxe Book - Hardcover Embossed Humblewood Campaign\\n \\nStandees - Cardboard Punch Outs + Bases\\n \\nBattle Maps - Double Sided, Fold Out, Paper\\n \\nWorld Map - Fabric\\n \\nPin - Alderheart Symbol\\n \\nCoins - Set of 20\\n \\nDice - Alderheart Ember Edition\\n \\nAdd On Discount - 5%\\n\",\n",
       " 'Everden Collection': 'For those who want one of everything, especially those minis. We\\'ve made a tier that includes everything (excluding the Dog Might Games accessories) plus a 7% discount on all add-ons! Shipping US/CAN $20, Worldwide $45 \\nPDF - Deluxe Print\\'N Play PDF\\n \\nDeck - Humblewood Reference Cards\\n \\nBook - Hardcover Humblewood Campaign\\n \\nDeluxe Book - Hardcover Embossed Humblewood Campaign\\n \\nStandees - Cardboard Punch Outs + Bases\\n \\nBattle Maps - Double Sided, Fold Out, Paper\\n \\nWorld Map - Fold Out, Paper\\n \\nWorld Map - Fabric\\n \\nPin - Alderheart Symbol\\n \\nCoins - Set of 20\\n \\nDice - Alderheart Ember Edition\\n \\nTarot Card Deck Box\\n \\nTarot Card Binder\\n \\nMinis - Heroes of Humblewood\\n \\nMinis - Bandit Coalition\\n \\nMinis - Humblefolk\\n \\nMinis - Citizens of Alderheart\\n \\nMinis - Boneyard Birds\\n \\nMinis - 4\"x4\" Aspect of Fire\\n \\nAdd On Discount - 7%\\n \\nMinis - Woodland Creatures\\n'}"
      ]
     },
     "execution_count": 10,
     "metadata": {},
     "output_type": "execute_result"
    }
   ],
   "source": [
    "{x[0]:x[1] for x in zip(pledge_title,pledge_desc)}"
   ]
  },
  {
   "cell_type": "markdown",
   "id": "3ada2081-706d-4562-9f02-865c2241896c",
   "metadata": {},
   "source": [
    "Useful Code "
   ]
  },
  {
   "cell_type": "code",
   "execution_count": 11,
   "id": "24e356d5-d7ba-46e9-b285-fcf1c5fe48f0",
   "metadata": {},
   "outputs": [
    {
     "data": {
      "text/plain": [
       "[['NS_layouts__notifications'],\n",
       " ['relative'],\n",
       " ['w100p',\n",
       "  'py4',\n",
       "  'py2-md',\n",
       "  'h7-md',\n",
       "  'h5',\n",
       "  'flex',\n",
       "  'items-center',\n",
       "  'justify-center'],\n",
       " ['Campaign-state-successful'],\n",
       " ['NS_projects__project_share']]"
      ]
     },
     "execution_count": 11,
     "metadata": {},
     "output_type": "execute_result"
    }
   ],
   "source": [
    "[x['class'] for x in s.find_all(\"div\") if x.has_attr(\"class\")][0:5]"
   ]
  },
  {
   "cell_type": "code",
   "execution_count": 12,
   "id": "0b5c1073-4395-48f6-af45-6207cb3004b0",
   "metadata": {},
   "outputs": [],
   "source": [
    "#s.find_all('div',{'class':[\"pledge__info\",\"pledge__title\"]})"
   ]
  },
  {
   "cell_type": "code",
   "execution_count": 13,
   "id": "177fecc6-cace-46a3-91b4-54bec1b120f4",
   "metadata": {},
   "outputs": [],
   "source": [
    "#s.find_all('div',{\"class\":\"pledge__info\"})"
   ]
  },
  {
   "cell_type": "code",
   "execution_count": 14,
   "id": "6b9fc197-2f1c-4eb1-9b87-410cfad0ca87",
   "metadata": {},
   "outputs": [],
   "source": [
    "#print tags\n",
    "tags = {tag.name for tag in s.find_all()}"
   ]
  },
  {
   "cell_type": "code",
   "execution_count": 15,
   "id": "43daf7d5-f8fe-4fcf-92be-5fc8db1efd8e",
   "metadata": {},
   "outputs": [],
   "source": [
    "#colors, bars, shapes\n",
    "#s.find_all('g')"
   ]
  },
  {
   "cell_type": "code",
   "execution_count": 16,
   "id": "c3202e54-3773-48bc-acb3-c7e7c49084c0",
   "metadata": {},
   "outputs": [],
   "source": [
    "# scrape all URLS\n",
    "# for url in s.find_all('a'):\n",
    "#     print(url.get(\"href\"))"
   ]
  },
  {
   "cell_type": "code",
   "execution_count": 17,
   "id": "4e543bec-0427-4c95-b9ce-57ab02c242db",
   "metadata": {},
   "outputs": [],
   "source": [
    "#Iterate through all text \n",
    "# for pg in s.find_all('p'):\n",
    "      # strings produces a Navible string object  \n",
    "#     #print('$',pg.string)\n",
    "      \n",
    "#     #text is perferred, jjust unicode text\n",
    "#     print('@',pg.text)"
   ]
  },
  {
   "cell_type": "code",
   "execution_count": 18,
   "id": "fa5f5445-65c3-494c-9dff-25242090695f",
   "metadata": {},
   "outputs": [],
   "source": [
    "# extract all text \n",
    "#[x for x in s.get_text().split(\"\\n\") if len(x) > 0]"
   ]
  },
  {
   "cell_type": "markdown",
   "id": "eb542939-46f2-4777-abf1-1511ebfdb969",
   "metadata": {},
   "source": [
    "## 1.2 Get all DND Related Project Names and HTML Links "
   ]
  },
  {
   "cell_type": "code",
   "execution_count": 46,
   "id": "92e9a3b0-8eac-4f8c-9c3a-a3fe516725b8",
   "metadata": {},
   "outputs": [],
   "source": [
    "html_link_directory = '''https://www.kickstarter.com/discover/advanced?term=5e&sort=most_funded&page=2'''\n",
    "\n",
    "#make response usable\n",
    "d = BeautifulSoup(requests.get(html_link_directory).text, 'html.parser')"
   ]
  },
  {
   "cell_type": "code",
   "execution_count": 47,
   "id": "42ee3587-c4d8-4aaf-a4c7-6a387cfbd283",
   "metadata": {},
   "outputs": [
    {
     "data": {
      "text/plain": [
       "['quest-o-nomicon',\n",
       " 'anime-5e-fifth-edition-fantasy-role-playing-reimagined',\n",
       " 'iron-kingdoms-requiem-5e',\n",
       " 'level-up-advanced-5th-edition-a5e',\n",
       " 'ruins-of-symbaroum-for-5e',\n",
       " 'book-of-creatures-200-npcs-and-monsters-for-5th-edition',\n",
       " 'arcana-of-the-ancients-a-5e-science-fantasy-source',\n",
       " 'inferno-dantes-guide-to-hell-for-5e',\n",
       " 'return-to-planet-apocalypse',\n",
       " 'animal-adventures-secrets-of-gullet-cove',\n",
       " 'odyssey-of-the-dragonlords-5th-edition-adventure-b',\n",
       " 'the-delvers-guide-to-beast-world']"
      ]
     },
     "execution_count": 47,
     "metadata": {},
     "output_type": "execute_result"
    }
   ],
   "source": [
    "ignore_list = ['global-header',\n",
    " 'main_content',\n",
    " 'NS_discover__categories',\n",
    " 'category_1_subcategories',\n",
    " 'category_3_subcategories',\n",
    " 'category_26_subcategories',\n",
    " 'category_6_subcategories',\n",
    " 'category_7_subcategories',\n",
    " 'category_9_subcategories',\n",
    " 'category_11_subcategories',\n",
    " 'category_10_subcategories',\n",
    " 'category_12_subcategories',\n",
    " 'category_13_subcategories',\n",
    " 'category_14_subcategories',\n",
    " 'category_15_subcategories',\n",
    " 'category_18_subcategories',\n",
    " 'category_16_subcategories',\n",
    " 'category_17_subcategories',\n",
    " 'NS_discover__locations',\n",
    " 'NS_discover__sorts',\n",
    " 'NS_discover__filters',\n",
    " 'toast-notification',\n",
    " 'react-recommendations',\n",
    " 'react-user-data',\n",
    " 'react-watching-overlay',\n",
    " 'projects_list',\n",
    " 'global-footer',\n",
    " 'ZN_cV1oNFo8KUFlf0N',\n",
    " 'growl_section',\n",
    " 'fb-root']\n",
    "[tag['id'] for tag in d.select('div[id]') if tag['id'] not in ignore_list]"
   ]
  },
  {
   "cell_type": "code",
   "execution_count": 58,
   "id": "9b436b11-d6c5-401e-8f7e-6c25d227d6d5",
   "metadata": {},
   "outputs": [],
   "source": [
    "data = [(json.loads(i[\"data-project\"]),i[\"data-ref\"]) for i in d.find_all(\"div\") if i.get(\"data-project\")]"
   ]
  },
  {
   "cell_type": "code",
   "execution_count": 80,
   "id": "d0884555-7333-4666-94cb-8eadc7ef7694",
   "metadata": {},
   "outputs": [
    {
     "name": "stdout",
     "output_type": "stream",
     "text": [
      "dict_keys(['id', 'photo', 'name', 'blurb', 'goal', 'pledged', 'state', 'slug', 'disable_communication', 'country', 'country_displayable_name', 'currency', 'currency_symbol', 'currency_trailing_code', 'deadline', 'state_changed_at', 'created_at', 'launched_at', 'staff_pick', 'is_starrable', 'backers_count', 'static_usd_rate', 'usd_pledged', 'converted_pledged_amount', 'fx_rate', 'usd_exchange_rate', 'current_currency', 'usd_type', 'creator', 'location', 'category', 'profile', 'spotlight', 'urls', 'percent_funded', 'is_liked', 'is_disliked'])\n"
     ]
    }
   ],
   "source": [
    "# for i in data:\n",
    "#     print(i[0].keys())\n",
    "#     break"
   ]
  },
  {
   "cell_type": "code",
   "execution_count": 84,
   "id": "64008e02-4392-4efa-9b14-b85d6096654f",
   "metadata": {},
   "outputs": [
    {
     "name": "stdout",
     "output_type": "stream",
     "text": [
      "1624429365\n"
     ]
    }
   ],
   "source": [
    "# for i in data:\n",
    "#     print(i[0][\"created_at\"])\n",
    "#     break"
   ]
  },
  {
   "cell_type": "code",
   "execution_count": 158,
   "id": "2e90c9e7-c354-43bd-88b5-95d539fe87e6",
   "metadata": {},
   "outputs": [
    {
     "name": "stdout",
     "output_type": "stream",
     "text": [
      "---Start---\n",
      "Complete:  1\n",
      "Complete:  2\n",
      "Complete:  3\n",
      "Complete:  4\n",
      "Complete:  5\n",
      "Complete:  6\n",
      "Complete:  7\n",
      "Complete:  8\n",
      "Complete:  9\n",
      "Complete:  10\n",
      "Complete:  11\n",
      "Complete:  12\n",
      "Complete:  13\n",
      "Complete:  14\n",
      "Complete:  15\n",
      "Complete:  16\n",
      "Complete:  17\n",
      "Complete:  18\n",
      "Complete:  19\n",
      "Complete:  20\n",
      "Complete:  21\n",
      "Complete:  22\n",
      "Complete:  23\n",
      "Complete:  24\n",
      "Complete:  25\n",
      "Complete:  26\n",
      "Complete:  27\n",
      "Complete:  28\n",
      "Complete:  29\n",
      "Complete:  30\n",
      "Complete:  31\n",
      "Complete:  32\n",
      "Complete:  33\n",
      "Complete:  34\n",
      "Complete:  35\n",
      "Complete:  36\n",
      "Complete:  37\n",
      "Complete:  38\n",
      "Complete:  39\n",
      "Complete:  40\n",
      "Complete:  41\n",
      "Complete:  42\n",
      "Complete:  43\n",
      "Complete:  44\n",
      "Complete:  45\n",
      "Complete:  46\n",
      "Complete:  47\n",
      "Complete:  48\n",
      "Complete:  49\n",
      "Complete:  50\n",
      "Complete:  51\n",
      "Complete:  52\n",
      "Complete:  53\n",
      "Complete:  54\n",
      "Complete:  55\n",
      "Complete:  56\n",
      "Complete:  57\n",
      "Complete:  58\n",
      "Complete:  59\n",
      "Complete:  60\n",
      "Complete:  61\n",
      "Complete:  62\n",
      "Complete:  63\n",
      "Complete:  64\n",
      "Complete:  65\n",
      "Complete:  66\n",
      "Complete:  67\n",
      "Complete:  68\n",
      "Complete:  69\n",
      "Complete:  70\n",
      "Complete:  71\n",
      "Complete:  72\n",
      "Complete:  73\n",
      "Complete:  74\n",
      "Complete:  75\n",
      "Complete:  76\n",
      "Complete:  77\n",
      "Complete:  78\n",
      "Complete:  79\n",
      "Complete:  80\n",
      "Complete:  81\n",
      "Complete:  82\n",
      "Complete:  83\n",
      "Complete:  84\n",
      "Complete:  85\n",
      "Complete:  86\n",
      "Complete:  87\n",
      "Complete:  88\n",
      "Complete:  89\n",
      "Complete:  90\n",
      "Complete:  91\n",
      "Complete:  92\n",
      "Complete:  93\n",
      "Complete:  94\n",
      "---End---\n"
     ]
    }
   ],
   "source": [
    "#macro holder \n",
    "macro = []\n",
    "\n",
    "#total number of projects\n",
    "tnp = 1124\n",
    "\n",
    "#number of projects per page\n",
    "ppp = 12\n",
    "\n",
    "#denote the start\n",
    "print(\"---Start---\")\n",
    "#iterate through pages \n",
    "for page in range(1,1+int(np.ceil(tnp/ppp))):\n",
    "    \n",
    "    #specifify the link of interest \n",
    "    html_link_directory = '''https://www.kickstarter.com/discover/advanced?term=5e&sort=most_funded&page=''' +str(page)\n",
    "\n",
    "    #make response usable\n",
    "    d = BeautifulSoup(requests.get(html_link_directory).text, 'html.parser')\n",
    "\n",
    "    #extract data project information\n",
    "    data = [(json.loads(i[\"data-project\"]),i[\"data-ref\"]) for i in d.find_all(\"div\") if i.get(\"data-project\")]\n",
    "\n",
    "    # within each page notate capture the page specific information\n",
    "    micro = []\n",
    "    for i in data:\n",
    "        \n",
    "        #extract and append items\n",
    "        micro.append([i[0][\"name\"],\n",
    "               i[0][\"blurb\"],\n",
    "               i[0][\"goal\"],     # target amount to succeed\n",
    "               i[0][\"pledged\"],  # amount acquired\n",
    "               i[0]['usd_pledged'], #usd converstion of pledged \n",
    "               i[0][\"backers_count\"],\n",
    "               i[0][\"country\"],\n",
    "               i[0][\"currency\"],\n",
    "               i[0][\"created_at\"], # page creation\n",
    "               i[0][\"launched_at\"], #date of start\n",
    "               i[0][\"deadline\"], #date of completion\n",
    "               i[0][\"staff_pick\"],\n",
    "               i[0][\"spotlight\"],\n",
    "               i[0][\"creator\"][\"name\"],\n",
    "               i[0]['is_starrable'],\n",
    "               i[0][\"state\"],    # note on status on camaping (ie completed)\n",
    "               i[0][\"category\"][\"name\"],\n",
    "               #i[0][\"category\"][\"parent_name\"], (sometimes empty?)\n",
    "               i[0][\"is_liked\"], #not used\n",
    "               i[0][\"is_disliked\"], #not used \n",
    "               i[0][\"urls\"][\"web\"][\"project\"]])\n",
    "        \n",
    "    #append to macro\n",
    "    macro += [micro]\n",
    "    \n",
    "    #mark progress\n",
    "    print(\"Complete: \",page)\n",
    "        \n",
    "    #pause, make sure that we do not get kicked out of kickstarter\n",
    "    time.sleep(10)\n",
    "    \n",
    "#end\n",
    "print(\"---End---\")"
   ]
  },
  {
   "cell_type": "markdown",
   "id": "fc0ba6cc-fc95-40d2-8637-1cc180c78456",
   "metadata": {},
   "source": [
    "Organize Information"
   ]
  },
  {
   "cell_type": "code",
   "execution_count": 159,
   "id": "e88d49f8-c1ec-45a8-9936-ba8542cf5112",
   "metadata": {},
   "outputs": [],
   "source": [
    "col_list = [\"name\",\"blurb\",\"goal\",\"pledged\",\"usd_pledged\",\"backers_count\",\"country\",\"currency\",\"created_at\",\n",
    "            \"launched_at\",\"deadline\",\"staff_pick\",\"spotlight\",\"creator\",\"is_starrable\",\"state\",\n",
    "            \"category\",\"is_liked\",\"is_disliked\",\"url\"]\n",
    "macro_pd = pd.concat([pd.DataFrame(x) for x in macro])\n",
    "macro_pd.columns = col_list\n",
    "macro_pd = macro_pd.reset_index(drop=True)\n",
    "\n",
    "#overwrite time columns\n",
    "for time_col in [\"created_at\",\"launched_at\",\"deadline\"]:\n",
    "    \n",
    "    #correct\n",
    "    macro_pd[time_col] =  macro_pd[time_col].apply(lambda x: datetime.datetime.fromtimestamp(x).date())\n",
    "    \n",
    "#get length of each campaign\n",
    "macro_pd[\"campaign_day_length\"] = (macro_pd['deadline']-macro_pd['launched_at']).apply(lambda x:x.days)"
   ]
  },
  {
   "cell_type": "code",
   "execution_count": 160,
   "id": "4163bf86-82a4-4663-b41d-75a6a5e55580",
   "metadata": {},
   "outputs": [
    {
     "data": {
      "text/html": [
       "<div>\n",
       "<style scoped>\n",
       "    .dataframe tbody tr th:only-of-type {\n",
       "        vertical-align: middle;\n",
       "    }\n",
       "\n",
       "    .dataframe tbody tr th {\n",
       "        vertical-align: top;\n",
       "    }\n",
       "\n",
       "    .dataframe thead th {\n",
       "        text-align: right;\n",
       "    }\n",
       "</style>\n",
       "<table border=\"1\" class=\"dataframe\">\n",
       "  <thead>\n",
       "    <tr style=\"text-align: right;\">\n",
       "      <th></th>\n",
       "      <th>name</th>\n",
       "      <th>blurb</th>\n",
       "      <th>goal</th>\n",
       "      <th>pledged</th>\n",
       "      <th>usd_pledged</th>\n",
       "      <th>backers_count</th>\n",
       "      <th>country</th>\n",
       "      <th>currency</th>\n",
       "      <th>created_at</th>\n",
       "      <th>launched_at</th>\n",
       "      <th>deadline</th>\n",
       "      <th>staff_pick</th>\n",
       "      <th>spotlight</th>\n",
       "      <th>creator</th>\n",
       "      <th>is_starrable</th>\n",
       "      <th>state</th>\n",
       "      <th>category</th>\n",
       "      <th>is_liked</th>\n",
       "      <th>is_disliked</th>\n",
       "      <th>url</th>\n",
       "      <th>campaign_day_length</th>\n",
       "    </tr>\n",
       "  </thead>\n",
       "  <tbody>\n",
       "    <tr>\n",
       "      <th>0</th>\n",
       "      <td>Tanares RPG - 5e</td>\n",
       "      <td>RPG Adventure + Supplement for 5th Edition, wi...</td>\n",
       "      <td>50000.0</td>\n",
       "      <td>2100242.00</td>\n",
       "      <td>2100242.0</td>\n",
       "      <td>9403</td>\n",
       "      <td>US</td>\n",
       "      <td>USD</td>\n",
       "      <td>2020-04-13</td>\n",
       "      <td>2021-08-31</td>\n",
       "      <td>2021-09-30</td>\n",
       "      <td>True</td>\n",
       "      <td>True</td>\n",
       "      <td>Dragori Games</td>\n",
       "      <td>False</td>\n",
       "      <td>successful</td>\n",
       "      <td>Tabletop Games</td>\n",
       "      <td>False</td>\n",
       "      <td>False</td>\n",
       "      <td>https://www.kickstarter.com/projects/dragoriga...</td>\n",
       "      <td>30</td>\n",
       "    </tr>\n",
       "    <tr>\n",
       "      <th>1</th>\n",
       "      <td>Heliana's Guide To Monster Hunting: A 5e Suppl...</td>\n",
       "      <td>Level up your game with epic monster hunts, tr...</td>\n",
       "      <td>15000.0</td>\n",
       "      <td>1845422.69</td>\n",
       "      <td>1845422.69</td>\n",
       "      <td>18082</td>\n",
       "      <td>US</td>\n",
       "      <td>USD</td>\n",
       "      <td>2021-04-07</td>\n",
       "      <td>2021-06-01</td>\n",
       "      <td>2021-07-01</td>\n",
       "      <td>True</td>\n",
       "      <td>True</td>\n",
       "      <td>Loot Tavern</td>\n",
       "      <td>False</td>\n",
       "      <td>successful</td>\n",
       "      <td>Tabletop Games</td>\n",
       "      <td>False</td>\n",
       "      <td>False</td>\n",
       "      <td>https://www.kickstarter.com/projects/saltybot/...</td>\n",
       "      <td>30</td>\n",
       "    </tr>\n",
       "    <tr>\n",
       "      <th>2</th>\n",
       "      <td>Dungeons &amp; Lasers Third Edition</td>\n",
       "      <td>Modular Dungeons and fantasy Town, 132+ NPC mi...</td>\n",
       "      <td>50000.0</td>\n",
       "      <td>1424662.40</td>\n",
       "      <td>1712828.706935136</td>\n",
       "      <td>9014</td>\n",
       "      <td>PL</td>\n",
       "      <td>EUR</td>\n",
       "      <td>2021-01-27</td>\n",
       "      <td>2021-05-04</td>\n",
       "      <td>2021-05-19</td>\n",
       "      <td>True</td>\n",
       "      <td>True</td>\n",
       "      <td>Archon Studio</td>\n",
       "      <td>False</td>\n",
       "      <td>successful</td>\n",
       "      <td>Tabletop Games</td>\n",
       "      <td>False</td>\n",
       "      <td>False</td>\n",
       "      <td>https://www.kickstarter.com/projects/archonstu...</td>\n",
       "      <td>15</td>\n",
       "    </tr>\n",
       "    <tr>\n",
       "      <th>3</th>\n",
       "      <td>The Deck of Many Animated Spells, Tarot and Mo...</td>\n",
       "      <td>Cast your spells and more with style!</td>\n",
       "      <td>20000.0</td>\n",
       "      <td>1310509.00</td>\n",
       "      <td>1310509.0</td>\n",
       "      <td>9871</td>\n",
       "      <td>US</td>\n",
       "      <td>USD</td>\n",
       "      <td>2020-04-21</td>\n",
       "      <td>2020-05-12</td>\n",
       "      <td>2020-06-11</td>\n",
       "      <td>True</td>\n",
       "      <td>True</td>\n",
       "      <td>Hit Point Press</td>\n",
       "      <td>False</td>\n",
       "      <td>successful</td>\n",
       "      <td>Tabletop Games</td>\n",
       "      <td>False</td>\n",
       "      <td>False</td>\n",
       "      <td>https://www.kickstarter.com/projects/hitpointp...</td>\n",
       "      <td>30</td>\n",
       "    </tr>\n",
       "    <tr>\n",
       "      <th>4</th>\n",
       "      <td>Dungeons of Drakkenheim</td>\n",
       "      <td>A 5e adventure where malevolent monsters and r...</td>\n",
       "      <td>20000.0</td>\n",
       "      <td>1279240.00</td>\n",
       "      <td>1279240.0</td>\n",
       "      <td>13376</td>\n",
       "      <td>US</td>\n",
       "      <td>USD</td>\n",
       "      <td>2021-04-29</td>\n",
       "      <td>2021-06-28</td>\n",
       "      <td>2021-07-31</td>\n",
       "      <td>True</td>\n",
       "      <td>True</td>\n",
       "      <td>Dungeon Dudes</td>\n",
       "      <td>False</td>\n",
       "      <td>successful</td>\n",
       "      <td>Tabletop Games</td>\n",
       "      <td>False</td>\n",
       "      <td>False</td>\n",
       "      <td>https://www.kickstarter.com/projects/214499675...</td>\n",
       "      <td>33</td>\n",
       "    </tr>\n",
       "  </tbody>\n",
       "</table>\n",
       "</div>"
      ],
      "text/plain": [
       "                                                name  \\\n",
       "0                                   Tanares RPG - 5e   \n",
       "1  Heliana's Guide To Monster Hunting: A 5e Suppl...   \n",
       "2                    Dungeons & Lasers Third Edition   \n",
       "3  The Deck of Many Animated Spells, Tarot and Mo...   \n",
       "4                            Dungeons of Drakkenheim   \n",
       "\n",
       "                                               blurb     goal     pledged  \\\n",
       "0  RPG Adventure + Supplement for 5th Edition, wi...  50000.0  2100242.00   \n",
       "1  Level up your game with epic monster hunts, tr...  15000.0  1845422.69   \n",
       "2  Modular Dungeons and fantasy Town, 132+ NPC mi...  50000.0  1424662.40   \n",
       "3              Cast your spells and more with style!  20000.0  1310509.00   \n",
       "4  A 5e adventure where malevolent monsters and r...  20000.0  1279240.00   \n",
       "\n",
       "         usd_pledged  backers_count country currency  created_at launched_at  \\\n",
       "0          2100242.0           9403      US      USD  2020-04-13  2021-08-31   \n",
       "1         1845422.69          18082      US      USD  2021-04-07  2021-06-01   \n",
       "2  1712828.706935136           9014      PL      EUR  2021-01-27  2021-05-04   \n",
       "3          1310509.0           9871      US      USD  2020-04-21  2020-05-12   \n",
       "4          1279240.0          13376      US      USD  2021-04-29  2021-06-28   \n",
       "\n",
       "     deadline  staff_pick  spotlight          creator  is_starrable  \\\n",
       "0  2021-09-30        True       True    Dragori Games         False   \n",
       "1  2021-07-01        True       True      Loot Tavern         False   \n",
       "2  2021-05-19        True       True    Archon Studio         False   \n",
       "3  2020-06-11        True       True  Hit Point Press         False   \n",
       "4  2021-07-31        True       True    Dungeon Dudes         False   \n",
       "\n",
       "        state        category  is_liked  is_disliked  \\\n",
       "0  successful  Tabletop Games     False        False   \n",
       "1  successful  Tabletop Games     False        False   \n",
       "2  successful  Tabletop Games     False        False   \n",
       "3  successful  Tabletop Games     False        False   \n",
       "4  successful  Tabletop Games     False        False   \n",
       "\n",
       "                                                 url  campaign_day_length  \n",
       "0  https://www.kickstarter.com/projects/dragoriga...                   30  \n",
       "1  https://www.kickstarter.com/projects/saltybot/...                   30  \n",
       "2  https://www.kickstarter.com/projects/archonstu...                   15  \n",
       "3  https://www.kickstarter.com/projects/hitpointp...                   30  \n",
       "4  https://www.kickstarter.com/projects/214499675...                   33  "
      ]
     },
     "execution_count": 160,
     "metadata": {},
     "output_type": "execute_result"
    }
   ],
   "source": [
    "macro_pd[0:5]"
   ]
  },
  {
   "cell_type": "code",
   "execution_count": 162,
   "id": "e5e69c19-a741-489d-a064-8d639fe90c15",
   "metadata": {},
   "outputs": [],
   "source": [
    "macro_pd.to_csv(\"kickstarter_directory_search_5e_24oct2021.csv\",index=False,index_label=False)"
   ]
  },
  {
   "cell_type": "markdown",
   "id": "6b1a0891-ff17-4d28-ac36-a84f6953f8e1",
   "metadata": {},
   "source": [
    "### 1.2.2 Analyze macro information "
   ]
  },
  {
   "cell_type": "code",
   "execution_count": 164,
   "id": "941f0137-af5f-4f71-97a7-bf89dc704283",
   "metadata": {},
   "outputs": [
    {
     "data": {
      "text/html": [
       "<div>\n",
       "<style scoped>\n",
       "    .dataframe tbody tr th:only-of-type {\n",
       "        vertical-align: middle;\n",
       "    }\n",
       "\n",
       "    .dataframe tbody tr th {\n",
       "        vertical-align: top;\n",
       "    }\n",
       "\n",
       "    .dataframe thead th {\n",
       "        text-align: right;\n",
       "    }\n",
       "</style>\n",
       "<table border=\"1\" class=\"dataframe\">\n",
       "  <thead>\n",
       "    <tr style=\"text-align: right;\">\n",
       "      <th></th>\n",
       "      <th>name</th>\n",
       "      <th>blurb</th>\n",
       "      <th>goal</th>\n",
       "      <th>pledged</th>\n",
       "      <th>usd_pledged</th>\n",
       "      <th>backers_count</th>\n",
       "      <th>country</th>\n",
       "      <th>currency</th>\n",
       "      <th>created_at</th>\n",
       "      <th>launched_at</th>\n",
       "      <th>deadline</th>\n",
       "      <th>staff_pick</th>\n",
       "      <th>spotlight</th>\n",
       "      <th>creator</th>\n",
       "      <th>is_starrable</th>\n",
       "      <th>state</th>\n",
       "      <th>category</th>\n",
       "      <th>is_liked</th>\n",
       "      <th>is_disliked</th>\n",
       "      <th>url</th>\n",
       "      <th>campaign_day_length</th>\n",
       "    </tr>\n",
       "  </thead>\n",
       "  <tbody>\n",
       "    <tr>\n",
       "      <th>0</th>\n",
       "      <td>Tanares RPG - 5e</td>\n",
       "      <td>RPG Adventure + Supplement for 5th Edition, wi...</td>\n",
       "      <td>50000.0</td>\n",
       "      <td>2100242.00</td>\n",
       "      <td>2100242.0</td>\n",
       "      <td>9403</td>\n",
       "      <td>US</td>\n",
       "      <td>USD</td>\n",
       "      <td>2020-04-13</td>\n",
       "      <td>2021-08-31</td>\n",
       "      <td>2021-09-30</td>\n",
       "      <td>True</td>\n",
       "      <td>True</td>\n",
       "      <td>Dragori Games</td>\n",
       "      <td>False</td>\n",
       "      <td>successful</td>\n",
       "      <td>Tabletop Games</td>\n",
       "      <td>False</td>\n",
       "      <td>False</td>\n",
       "      <td>https://www.kickstarter.com/projects/dragoriga...</td>\n",
       "      <td>30</td>\n",
       "    </tr>\n",
       "    <tr>\n",
       "      <th>1</th>\n",
       "      <td>Heliana's Guide To Monster Hunting: A 5e Suppl...</td>\n",
       "      <td>Level up your game with epic monster hunts, tr...</td>\n",
       "      <td>15000.0</td>\n",
       "      <td>1845422.69</td>\n",
       "      <td>1845422.69</td>\n",
       "      <td>18082</td>\n",
       "      <td>US</td>\n",
       "      <td>USD</td>\n",
       "      <td>2021-04-07</td>\n",
       "      <td>2021-06-01</td>\n",
       "      <td>2021-07-01</td>\n",
       "      <td>True</td>\n",
       "      <td>True</td>\n",
       "      <td>Loot Tavern</td>\n",
       "      <td>False</td>\n",
       "      <td>successful</td>\n",
       "      <td>Tabletop Games</td>\n",
       "      <td>False</td>\n",
       "      <td>False</td>\n",
       "      <td>https://www.kickstarter.com/projects/saltybot/...</td>\n",
       "      <td>30</td>\n",
       "    </tr>\n",
       "    <tr>\n",
       "      <th>2</th>\n",
       "      <td>Dungeons &amp; Lasers Third Edition</td>\n",
       "      <td>Modular Dungeons and fantasy Town, 132+ NPC mi...</td>\n",
       "      <td>50000.0</td>\n",
       "      <td>1424662.40</td>\n",
       "      <td>1712828.706935136</td>\n",
       "      <td>9014</td>\n",
       "      <td>PL</td>\n",
       "      <td>EUR</td>\n",
       "      <td>2021-01-27</td>\n",
       "      <td>2021-05-04</td>\n",
       "      <td>2021-05-19</td>\n",
       "      <td>True</td>\n",
       "      <td>True</td>\n",
       "      <td>Archon Studio</td>\n",
       "      <td>False</td>\n",
       "      <td>successful</td>\n",
       "      <td>Tabletop Games</td>\n",
       "      <td>False</td>\n",
       "      <td>False</td>\n",
       "      <td>https://www.kickstarter.com/projects/archonstu...</td>\n",
       "      <td>15</td>\n",
       "    </tr>\n",
       "    <tr>\n",
       "      <th>3</th>\n",
       "      <td>The Deck of Many Animated Spells, Tarot and Mo...</td>\n",
       "      <td>Cast your spells and more with style!</td>\n",
       "      <td>20000.0</td>\n",
       "      <td>1310509.00</td>\n",
       "      <td>1310509.0</td>\n",
       "      <td>9871</td>\n",
       "      <td>US</td>\n",
       "      <td>USD</td>\n",
       "      <td>2020-04-21</td>\n",
       "      <td>2020-05-12</td>\n",
       "      <td>2020-06-11</td>\n",
       "      <td>True</td>\n",
       "      <td>True</td>\n",
       "      <td>Hit Point Press</td>\n",
       "      <td>False</td>\n",
       "      <td>successful</td>\n",
       "      <td>Tabletop Games</td>\n",
       "      <td>False</td>\n",
       "      <td>False</td>\n",
       "      <td>https://www.kickstarter.com/projects/hitpointp...</td>\n",
       "      <td>30</td>\n",
       "    </tr>\n",
       "    <tr>\n",
       "      <th>4</th>\n",
       "      <td>Dungeons of Drakkenheim</td>\n",
       "      <td>A 5e adventure where malevolent monsters and r...</td>\n",
       "      <td>20000.0</td>\n",
       "      <td>1279240.00</td>\n",
       "      <td>1279240.0</td>\n",
       "      <td>13376</td>\n",
       "      <td>US</td>\n",
       "      <td>USD</td>\n",
       "      <td>2021-04-29</td>\n",
       "      <td>2021-06-28</td>\n",
       "      <td>2021-07-31</td>\n",
       "      <td>True</td>\n",
       "      <td>True</td>\n",
       "      <td>Dungeon Dudes</td>\n",
       "      <td>False</td>\n",
       "      <td>successful</td>\n",
       "      <td>Tabletop Games</td>\n",
       "      <td>False</td>\n",
       "      <td>False</td>\n",
       "      <td>https://www.kickstarter.com/projects/214499675...</td>\n",
       "      <td>33</td>\n",
       "    </tr>\n",
       "  </tbody>\n",
       "</table>\n",
       "</div>"
      ],
      "text/plain": [
       "                                                name  \\\n",
       "0                                   Tanares RPG - 5e   \n",
       "1  Heliana's Guide To Monster Hunting: A 5e Suppl...   \n",
       "2                    Dungeons & Lasers Third Edition   \n",
       "3  The Deck of Many Animated Spells, Tarot and Mo...   \n",
       "4                            Dungeons of Drakkenheim   \n",
       "\n",
       "                                               blurb     goal     pledged  \\\n",
       "0  RPG Adventure + Supplement for 5th Edition, wi...  50000.0  2100242.00   \n",
       "1  Level up your game with epic monster hunts, tr...  15000.0  1845422.69   \n",
       "2  Modular Dungeons and fantasy Town, 132+ NPC mi...  50000.0  1424662.40   \n",
       "3              Cast your spells and more with style!  20000.0  1310509.00   \n",
       "4  A 5e adventure where malevolent monsters and r...  20000.0  1279240.00   \n",
       "\n",
       "         usd_pledged  backers_count country currency  created_at launched_at  \\\n",
       "0          2100242.0           9403      US      USD  2020-04-13  2021-08-31   \n",
       "1         1845422.69          18082      US      USD  2021-04-07  2021-06-01   \n",
       "2  1712828.706935136           9014      PL      EUR  2021-01-27  2021-05-04   \n",
       "3          1310509.0           9871      US      USD  2020-04-21  2020-05-12   \n",
       "4          1279240.0          13376      US      USD  2021-04-29  2021-06-28   \n",
       "\n",
       "     deadline  staff_pick  spotlight          creator  is_starrable  \\\n",
       "0  2021-09-30        True       True    Dragori Games         False   \n",
       "1  2021-07-01        True       True      Loot Tavern         False   \n",
       "2  2021-05-19        True       True    Archon Studio         False   \n",
       "3  2020-06-11        True       True  Hit Point Press         False   \n",
       "4  2021-07-31        True       True    Dungeon Dudes         False   \n",
       "\n",
       "        state        category  is_liked  is_disliked  \\\n",
       "0  successful  Tabletop Games     False        False   \n",
       "1  successful  Tabletop Games     False        False   \n",
       "2  successful  Tabletop Games     False        False   \n",
       "3  successful  Tabletop Games     False        False   \n",
       "4  successful  Tabletop Games     False        False   \n",
       "\n",
       "                                                 url  campaign_day_length  \n",
       "0  https://www.kickstarter.com/projects/dragoriga...                   30  \n",
       "1  https://www.kickstarter.com/projects/saltybot/...                   30  \n",
       "2  https://www.kickstarter.com/projects/archonstu...                   15  \n",
       "3  https://www.kickstarter.com/projects/hitpointp...                   30  \n",
       "4  https://www.kickstarter.com/projects/214499675...                   33  "
      ]
     },
     "execution_count": 164,
     "metadata": {},
     "output_type": "execute_result"
    }
   ],
   "source": [
    "macro_pd[0:5]"
   ]
  },
  {
   "cell_type": "code",
   "execution_count": 166,
   "id": "5686d6ca-b77c-4154-ba26-b26c7585d17d",
   "metadata": {},
   "outputs": [
    {
     "data": {
      "text/plain": [
       "Counter({'successful': 900, 'live': 38, 'canceled': 90, 'failed': 96})"
      ]
     },
     "execution_count": 166,
     "metadata": {},
     "output_type": "execute_result"
    }
   ],
   "source": [
    "Counter(macro_pd['state'])"
   ]
  },
  {
   "cell_type": "code",
   "execution_count": 175,
   "id": "bec407fc-7b68-410c-8f66-2dfe63a56e68",
   "metadata": {},
   "outputs": [
    {
     "data": {
      "text/plain": [
       "Counter({True: 48, False: 1076})"
      ]
     },
     "execution_count": 175,
     "metadata": {},
     "output_type": "execute_result"
    }
   ],
   "source": [
    "Counter(macro_pd['staff_pick'])"
   ]
  },
  {
   "cell_type": "code",
   "execution_count": 180,
   "id": "e6461d0d-6043-4450-9fec-bd1e2d1506f0",
   "metadata": {},
   "outputs": [
    {
     "data": {
      "text/plain": [
       "[('US', 823),\n",
       " ('GB', 121),\n",
       " ('CA', 59),\n",
       " ('IT', 31),\n",
       " ('AU', 31),\n",
       " ('NL', 11),\n",
       " ('MX', 10),\n",
       " ('DE', 9),\n",
       " ('PL', 6),\n",
       " ('SE', 6),\n",
       " ('ES', 5),\n",
       " ('IE', 4),\n",
       " ('FR', 3),\n",
       " ('DK', 2),\n",
       " ('BE', 1),\n",
       " ('JP', 1),\n",
       " ('SG', 1)]"
      ]
     },
     "execution_count": 180,
     "metadata": {},
     "output_type": "execute_result"
    }
   ],
   "source": [
    "#top thress countries - USA, Great Britian, canada - english covers 90% of the run\n",
    "Counter(macro_pd['country']).most_common()"
   ]
  },
  {
   "cell_type": "code",
   "execution_count": 178,
   "id": "5ee84f6c-238f-4cfa-b9c6-7b8b797400d8",
   "metadata": {},
   "outputs": [
    {
     "data": {
      "text/plain": [
       "Counter({'Tabletop Games': 1072,\n",
       "         'Games': 25,\n",
       "         'Playing Cards': 3,\n",
       "         'Gaming Hardware': 4,\n",
       "         'Graphic Novels': 1,\n",
       "         'Music': 1,\n",
       "         'Webseries': 1,\n",
       "         'Plays': 1,\n",
       "         'Art': 2,\n",
       "         'Illustration': 2,\n",
       "         'Electronic Music': 1,\n",
       "         'Video Games': 2,\n",
       "         'Live Games': 1,\n",
       "         'Zines': 1,\n",
       "         'Publishing': 1,\n",
       "         'Radio & Podcasts': 3,\n",
       "         'Animation': 1,\n",
       "         'Digital Art': 1,\n",
       "         'Indie Rock': 1})"
      ]
     },
     "execution_count": 178,
     "metadata": {},
     "output_type": "execute_result"
    }
   ],
   "source": [
    "#table top game category\n",
    "Counter(macro_pd['category'])"
   ]
  },
  {
   "cell_type": "code",
   "execution_count": 174,
   "id": "839c844d-0bf4-46a8-baaa-cb86cf7cec09",
   "metadata": {},
   "outputs": [
    {
     "name": "stdout",
     "output_type": "stream",
     "text": [
      "goal\n",
      "1 : 30\n",
      "5 : 100\n",
      "25 : 500\n",
      "33 : 1000\n",
      "50 : 2000\n",
      "66 : 5000\n",
      "75 : 8000\n",
      "95 : 30000\n",
      "99 : 95399\n"
     ]
    }
   ],
   "source": [
    "#goal of more than two thousand would be unrealistic, for V1 (target breakeven)\n",
    "print(\"goal\")\n",
    "for p in [1,5,25,33,50,66,75,95,99]:\n",
    "    print(p,\":\",int(np.percentile(macro_pd[\"goal\"].astype(float),p)))"
   ]
  },
  {
   "cell_type": "code",
   "execution_count": 173,
   "id": "903d6e56-08c1-4df0-a988-d376a5d0ec60",
   "metadata": {},
   "outputs": [
    {
     "name": "stdout",
     "output_type": "stream",
     "text": [
      "usd_pledged\n",
      "1 : 3\n",
      "5 : 247\n",
      "25 : 1812\n",
      "33 : 2609\n",
      "50 : 5435\n",
      "66 : 12111\n",
      "75 : 19087\n",
      "95 : 161500\n",
      "99 : 646231\n"
     ]
    }
   ],
   "source": [
    "# \n",
    "print(\"usd_pledged\")\n",
    "for p in [1,5,25,33,50,66,75,95,99]:\n",
    "    print(p,\":\",int(np.percentile(macro_pd[\"usd_pledged\"].astype(float),p)))\n",
    "    "
   ]
  },
  {
   "cell_type": "code",
   "execution_count": 188,
   "id": "a7186544-66dd-48a7-820b-5b074f433a85",
   "metadata": {},
   "outputs": [
    {
     "name": "stdout",
     "output_type": "stream",
     "text": [
      "campaign_day_length\n",
      "1 : 7\n",
      "5 : 11\n",
      "25 : 22\n",
      "33 : 27\n",
      "50 : 30\n",
      "66 : 30\n",
      "75 : 30\n",
      "95 : 43\n",
      "99 : 60\n"
     ]
    }
   ],
   "source": [
    "#30 days will be sufficient \n",
    "print(\"campaign_day_length\")\n",
    "for p in [1,5,25,33,50,66,75,95,99]:\n",
    "    print(p,\":\",int(np.percentile(macro_pd[\"campaign_day_length\"].astype(float),p)))"
   ]
  },
  {
   "cell_type": "markdown",
   "id": "9ee6e536-f779-45a7-bf54-3fe814b51f4e",
   "metadata": {},
   "source": [
    "### 1.3 Artist Research "
   ]
  },
  {
   "cell_type": "markdown",
   "id": "017fe344-5dbe-44cd-9196-52ca0026e4de",
   "metadata": {},
   "source": [
    "fivver has transperanet rates \n",
    "   * gen983 - 1 figure, full color 14 days = \\$200\n",
    "   * wacomkot - 1 figure, full color, simple background - \\$100\n",
    "   * tndillistration - 1 figure, high resolution, 3 revisions \\$100\n",
    "   * onetouchman (excellent) - 2 figures, commerical use, 2 revisions, full colored and realistic details \\$130\n",
    "   * zardinoiart - 2 figures, (colored, multple characters, complex background), commercial use \\$210\n",
    "   * hurma1vyajet - Hgh detal art - colored render with high level of detail (landscape, cityscape0 \\$125\n",
    "   * miralgosai - icons (perhaps roll 20 enemies, heros, objects) - 10 images = \\$40"
   ]
  },
  {
   "cell_type": "markdown",
   "id": "648f4e50-f932-4224-a2f7-e40fdf068a95",
   "metadata": {},
   "source": [
    "#### 1.4 Budget to Launch "
   ]
  },
  {
   "cell_type": "code",
   "execution_count": 224,
   "id": "76d7ed12-01bc-4cd2-a990-5328ba55203a",
   "metadata": {},
   "outputs": [
    {
     "data": {
      "text/plain": [
       "269.5652173913044"
      ]
     },
     "execution_count": 224,
     "metadata": {},
     "output_type": "execute_result"
    }
   ],
   "source": [
    "1240/4.6"
   ]
  },
  {
   "cell_type": "markdown",
   "id": "a0ff29d4-2288-4c01-ba3e-230a61680b59",
   "metadata": {},
   "source": [
    "Assumes I:\n",
    "* Final Budget of 5000 from Kickstarter backers \n",
    "     * 500 to offset money invested in ads\n",
    "     * 160 sent to kickstarter and credit cards\n",
    "     * 544 invested in the campaign before funding is completed (setup)\n",
    "     * 0 takehome\n",
    "     * Before we press launch, I am at negative -1240\n",
    "* Update and buildout budget:\n",
    "     * 744 for basic buildout\n",
    "* Develop own campaign and hook\n",
    "* Develop own special classes, items, spells\n",
    "* Deploy layout of each of the sample head of the campaign\n",
    "* Pure digital (no packing, no shiping)\n",
    "* Assumes 10% of target investing in social media investment - hope 8:1 ROI\n",
    "\n",
    "Unknowns\n",
    "* Legal status of raising money on Kickstarter using 5e\n",
    "* Is advertising worth it?\n",
    "     * Noah Charney- \"All the biggeset kickstarter camapign have this in common\"\n",
    "     * Facebook advetising (2020)\n",
    "     * ROI should be 1:4, 1:12\n",
    "     * \n",
    "* Need to develop social media presense (images on Instagram to generate buzz and coordiante launnch party)\n",
    "* Should start account and support a few other campaigns in the same vein (to get a look at samples and look legit)\n",
    "\n",
    "Rewards:\n",
    "* Digital materials - \n",
    "    * Backer - 10\n",
    "    * Generation - 0\n",
    "* Hardcover + digital\n",
    "    * Backer 30 (core rule books are at 30 on amazon - cannot go over)\n",
    "    * Cost 6.5 to generate book, 9 to ship, 2.4 in Kickstart and processing fees = 17.9\n",
    "    * 12.1 Profit\n",
    "    * If all value driven here, need 103 backers of this option in order to make back investment\n",
    "    * next 64 backers (that get us collectively get us to 5000, and generate an addition 774 profit to plow into more art)\n",
    "    * Need 167 backers to hit 5000 target\n",
    "\n",
    "Assume 0-100 Split with 5000 target\n",
    "\n",
    "* Best Option for Printing\n",
    "   * publishingxpress.com\n",
    "      * 200 units, 40 page count, color ink, 8.5/11, 80 Gloss Text, Pefect Bound, \n",
    "      * color cover, 80# gloss cover\n",
    "      * 1-sideded gloss lamination\n",
    "      * normal 4-6 day shipping, PDF Proof, portratit\n",
    "      * Total cost 1300 --> 6.5 per\n",
    "      * need to verify that it can handle a mix of images and text \n",
    "\n",
    "* Other\n",
    "* Printing center usa\n",
    "* Prices taken from shutterfly.com/bulkphotobooks/ for 11X8, hard cover 40 pages, 130 units, ship to massachusetts = 14\n",
    "* Priority Mail Padded Flat Rate Envelope (12.5 X 9.5) 9\n",
    "* Shipping Prices UPS.com/us/en/shipping/daily-rates.page\n",
    "\n",
    "\n",
    "Typical Breakdown:\n",
    "* 10% - Ads\n",
    "* 5% - Kickstarter\n",
    "* 3% - Credit Cards\n",
    "* 18% at onset"
   ]
  },
  {
   "cell_type": "code",
   "execution_count": 220,
   "id": "6bee1261-93a4-4c84-846a-890c71070fe5",
   "metadata": {},
   "outputs": [
    {
     "name": "stdout",
     "output_type": "stream",
     "text": [
      "Total: 544.5\n"
     ]
    },
    {
     "data": {
      "text/html": [
       "<div>\n",
       "<style scoped>\n",
       "    .dataframe tbody tr th:only-of-type {\n",
       "        vertical-align: middle;\n",
       "    }\n",
       "\n",
       "    .dataframe tbody tr th {\n",
       "        vertical-align: top;\n",
       "    }\n",
       "\n",
       "    .dataframe thead th {\n",
       "        text-align: right;\n",
       "    }\n",
       "</style>\n",
       "<table border=\"1\" class=\"dataframe\">\n",
       "  <thead>\n",
       "    <tr style=\"text-align: right;\">\n",
       "      <th></th>\n",
       "      <th>item</th>\n",
       "      <th>quantity</th>\n",
       "      <th>total_cost</th>\n",
       "      <th>tax</th>\n",
       "    </tr>\n",
       "  </thead>\n",
       "  <tbody>\n",
       "    <tr>\n",
       "      <th>0</th>\n",
       "      <td>hook_cinematograhic_art</td>\n",
       "      <td>1</td>\n",
       "      <td>300</td>\n",
       "      <td>30.0</td>\n",
       "    </tr>\n",
       "    <tr>\n",
       "      <th>1</th>\n",
       "      <td>sample_battle_map</td>\n",
       "      <td>1</td>\n",
       "      <td>125</td>\n",
       "      <td>12.5</td>\n",
       "    </tr>\n",
       "    <tr>\n",
       "      <th>2</th>\n",
       "      <td>icons</td>\n",
       "      <td>10</td>\n",
       "      <td>40</td>\n",
       "      <td>4.0</td>\n",
       "    </tr>\n",
       "    <tr>\n",
       "      <th>3</th>\n",
       "      <td>sample_ks_competition</td>\n",
       "      <td>3</td>\n",
       "      <td>30</td>\n",
       "      <td>3.0</td>\n",
       "    </tr>\n",
       "  </tbody>\n",
       "</table>\n",
       "</div>"
      ],
      "text/plain": [
       "                      item  quantity  total_cost   tax\n",
       "0  hook_cinematograhic_art         1         300  30.0\n",
       "1        sample_battle_map         1         125  12.5\n",
       "2                    icons        10          40   4.0\n",
       "3    sample_ks_competition         3          30   3.0"
      ]
     },
     "execution_count": 220,
     "metadata": {},
     "output_type": "execute_result"
    }
   ],
   "source": [
    "#bare minimum to get campaign up and goging \n",
    "launch_budget = pd.DataFrame([['hook_cinematograhic_art',1,300], #characters, setting, battle - all in one \n",
    "                       ['sample_battle_map',1,125], #break up into muliple sites we can cycle between, use in promotion\n",
    "                       #['setting_art',1,100],\n",
    "                       ['icons',10,40], # \n",
    "                       ['misc',1,30]], #back a few minor campaigns, get pdfs to see what is expected - build viability\n",
    "                      columns=[\"item\",\"quantity\",\"total_cost\"])\n",
    "\n",
    "launch_budget['tax'] = launch_budget['total_cost']*0.1\n",
    "\n",
    "print('Total:',np.sum(launch_budget['tax']) + np.sum(launch_budget['total_cost']))\n",
    "\n",
    "launch_budget"
   ]
  },
  {
   "cell_type": "code",
   "execution_count": null,
   "id": "374f80c7-736e-42a9-9442-5febea11e8ac",
   "metadata": {},
   "outputs": [],
   "source": []
  }
 ],
 "metadata": {
  "kernelspec": {
   "display_name": "Python 3",
   "language": "python",
   "name": "python3"
  },
  "language_info": {
   "codemirror_mode": {
    "name": "ipython",
    "version": 3
   },
   "file_extension": ".py",
   "mimetype": "text/x-python",
   "name": "python",
   "nbconvert_exporter": "python",
   "pygments_lexer": "ipython3",
   "version": "3.7.3"
  }
 },
 "nbformat": 4,
 "nbformat_minor": 5
}
