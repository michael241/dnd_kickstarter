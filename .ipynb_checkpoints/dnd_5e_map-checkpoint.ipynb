{
 "cells": [
  {
   "cell_type": "code",
   "execution_count": 1,
   "id": "771690cf-f5bf-44ce-835f-1d1cb262b4e6",
   "metadata": {},
   "outputs": [],
   "source": [
    "%load_ext autoreload\n",
    "%autoreload 2"
   ]
  },
  {
   "cell_type": "markdown",
   "id": "0b751a60-6b57-419c-8fd2-aa64c50256b8",
   "metadata": {},
   "source": [
    "# Purpose Build and Test Movement of Chracters "
   ]
  },
  {
   "cell_type": "markdown",
   "id": "b9b21c04-b55b-416e-be4b-15b84b6daf6b",
   "metadata": {},
   "source": [
    "# 0.0 Imports "
   ]
  },
  {
   "cell_type": "code",
   "execution_count": 2,
   "id": "ed176072-3437-46be-8700-57066e866360",
   "metadata": {},
   "outputs": [],
   "source": [
    "import numpy as np\n",
    "import matplotlib.pyplot as plt\n",
    "\n",
    "from Character import *\n",
    "from Map import * "
   ]
  },
  {
   "cell_type": "markdown",
   "id": "f2343a8d-715f-4e14-a407-d851b4724a24",
   "metadata": {},
   "source": [
    "# 1.0 Test Character \n",
    "Validate that we can move people around "
   ]
  },
  {
   "cell_type": "markdown",
   "id": "e486e623-582c-4c9e-bbfb-966cce30accd",
   "metadata": {},
   "source": [
    "Create Character"
   ]
  },
  {
   "cell_type": "code",
   "execution_count": 3,
   "id": "cca252f9-7abe-48c9-adb3-a8b2397eee86",
   "metadata": {},
   "outputs": [],
   "source": [
    "C = Character(name=\"Sigma\"\n",
    "              ,icon=\"Σ\"\n",
    "             ,x_pos=1\n",
    "             ,y_pos=1\n",
    "             ,speed=20)"
   ]
  },
  {
   "cell_type": "markdown",
   "id": "78aa6612-7877-458e-904c-12da777cf452",
   "metadata": {},
   "source": [
    "Set x and y coordiantes "
   ]
  },
  {
   "cell_type": "code",
   "execution_count": 4,
   "id": "0345e974-95cd-4d45-9384-c4c208bc61f9",
   "metadata": {},
   "outputs": [],
   "source": [
    "C.x_pos, C.y_pos = 1,2"
   ]
  },
  {
   "cell_type": "markdown",
   "id": "9a583a86-e4f8-4ba2-bad2-d391341c3ec0",
   "metadata": {},
   "source": [
    "Validate"
   ]
  },
  {
   "cell_type": "code",
   "execution_count": 5,
   "id": "914a7785-f37a-4d58-872f-99aa14d6a88f",
   "metadata": {},
   "outputs": [
    {
     "data": {
      "text/plain": [
       "(1, 2)"
      ]
     },
     "execution_count": 5,
     "metadata": {},
     "output_type": "execute_result"
    }
   ],
   "source": [
    "C.x_pos, C.y_pos"
   ]
  },
  {
   "cell_type": "markdown",
   "id": "a0129108-e76d-49d7-a983-e8a8f26c6e03",
   "metadata": {},
   "source": [
    "# 2.0 Make map"
   ]
  },
  {
   "cell_type": "code",
   "execution_count": 1199,
   "id": "0d5841db-1a98-41bd-846e-0b13fe9e4201",
   "metadata": {},
   "outputs": [
    {
     "data": {
      "text/plain": [
       "array([[' ', ' ', ' ', ' ', ' ', ' ', ' ', ' ', ' ', ' ', ' '],\n",
       "       [' ', ' ', ' ', ' ', ' ', ' ', ' ', ' ', ' ', ' ', ' '],\n",
       "       [' ', ' ', ' ', ' ', ' ', ' ', ' ', ' ', ' ', ' ', ' '],\n",
       "       [' ', ' ', ' ', ' ', ' ', ' ', ' ', ' ', ' ', ' ', ' '],\n",
       "       [' ', ' ', ' ', ' ', ' ', ' ', ' ', ' ', ' ', ' ', ' '],\n",
       "       ['e', ' ', '█', '█', '█', '█', ' ', ' ', ' ', ' ', ' '],\n",
       "       ['d', ' ', '█', ' ', ' ', '█', ' ', ' ', ' ', ' ', ' '],\n",
       "       ['c', ' ', '█', ' ', ' ', '█', ' ', ' ', ' ', ' ', ' '],\n",
       "       ['b', ' ', '█', '█', '█', '█', ' ', ' ', ' ', ' ', ' '],\n",
       "       ['a', ' ', ' ', ' ', ' ', ' ', ' ', ' ', ' ', ' ', ' '],\n",
       "       [' ', ' ', ' ', ' ', ' ', ' ', ' ', ' ', ' ', ' ', ' ']],\n",
       "      dtype='<U1')"
      ]
     },
     "execution_count": 1199,
     "metadata": {},
     "output_type": "execute_result"
    }
   ],
   "source": [
    "#crea#te \n",
    "a= Character(name=\"axa\",icon=\"a\",x_pos=0,y_pos=1,speed=5)\n",
    "b= Character(name=\"bxb\",icon=\"b\",x_pos=0,y_pos=2,speed=10)\n",
    "c= Character(name=\"cxc\",icon=\"c\",x_pos=0,y_pos=3,speed=15)\n",
    "d= Character(name=\"dxd\",icon=\"d\",x_pos=0,y_pos=4,speed=0)\n",
    "e= Character(name=\"exe\",icon=\"e\",x_pos=0,y_pos=5,speed=100)\n",
    "\n",
    "\n",
    "M = Map(name='basic')\n",
    "\n",
    "#add charactesr\n",
    "M.CharacterAdd(a)\n",
    "M.CharacterAdd(b)\n",
    "M.CharacterAdd(c)\n",
    "M.CharacterAdd(d)\n",
    "M.CharacterAdd(e)\n",
    "\n",
    "#add obstruction\n",
    "for row_holder in [(2, 2),\n",
    " (2, 3),\n",
    " (2, 4),\n",
    " (2, 5),\n",
    " (3, 2),\n",
    " (3, 5),\n",
    " (4, 2),\n",
    " (4, 5),\n",
    " (5, 2),\n",
    " (5, 3),\n",
    " (5, 4),\n",
    " (5, 5)]:\n",
    "    M.StaticAdd(row_holder[0],row_holder[1])\n",
    "\n",
    "np.rot90(M.map_character)"
   ]
  },
  {
   "cell_type": "code",
   "execution_count": 1201,
   "id": "d751bbeb-887e-4bb9-909c-c0699a36a6e4",
   "metadata": {},
   "outputs": [
    {
     "name": "stdout",
     "output_type": "stream",
     "text": [
      "[(2, 2, ['clockwise']), (2, 3, ['clockwise'])]\n",
      "2.0 1 2.5 2\n",
      "6-9\n",
      "[(2, 3, ['clockwise']), (2, 4, ['clockwise']), (2, 5, ['clockwise'])]\n",
      "2.0 1 4.0 4\n",
      "9-12\n",
      "[(2, 4, ['clockwise']), (2, 5, ['clockwise'])]\n",
      "2.0 1 4.5 5\n",
      "9-12\n",
      "[(2, 2, ['clockwise']), (2, 3, ['clockwise']), (2, 4, ['clockwise'])]\n",
      "2.0 1 3.0 3\n",
      "9-12\n",
      "[(2, 3, ['clockwise']), (2, 4, ['clockwise']), (2, 5, ['clockwise'])]\n",
      "2.0 1 4.0 4\n",
      "9-12\n",
      "[(2, 4, ['clockwise']), (2, 5, ['clockwise'])]\n",
      "2.0 1 4.5 5\n",
      "9-12\n",
      "[(3, 5, ['clockwise']), (4, 5, ['clockwise']), (5, 5, ['clockwise'])]\n",
      "4.0 4 5.0 6\n",
      "12-3\n",
      "[(2, 5, ['clockwise']), (3, 5, ['clockwise']), (4, 5, ['clockwise'])]\n",
      "3.0 3 5.0 6\n",
      "12-3\n",
      "[(2, 5, ['clockwise']), (3, 5, ['clockwise']), (4, 5, ['clockwise'])]\n",
      "3.0 3 5.0 6\n",
      "12-3\n",
      "[(2, 5, ['clockwise']), (3, 5, ['clockwise']), (4, 5, ['clockwise'])]\n",
      "3.0 3 5.0 6\n",
      "12-3\n",
      "[(2, 5, ['clockwise']), (3, 5, ['clockwise']), (4, 5, ['clockwise'])]\n",
      "3.0 3 5.0 6\n",
      "12-3\n",
      "[(2, 5, ['clockwise']), (3, 5, ['clockwise']), (4, 5, ['clockwise'])]\n",
      "3.0 3 5.0 6\n",
      "12-3\n",
      "[(2, 5, ['clockwise']), (3, 5, ['clockwise']), (4, 5, ['clockwise'])]\n",
      "3.0 3 5.0 6\n",
      "12-3\n",
      "[(2, 5, ['clockwise']), (3, 5, ['clockwise']), (4, 5, ['clockwise'])]\n",
      "3.0 3 5.0 6\n",
      "12-3\n",
      "[(2, 5, ['clockwise']), (3, 5, ['clockwise']), (4, 5, ['clockwise'])]\n",
      "3.0 3 5.0 6\n",
      "12-3\n",
      "[(2, 5, ['clockwise']), (3, 5, ['clockwise']), (4, 5, ['clockwise'])]\n",
      "3.0 3 5.0 6\n",
      "12-3\n",
      "[(2, 5, ['clockwise']), (3, 5, ['clockwise']), (4, 5, ['clockwise'])]\n",
      "3.0 3 5.0 6\n",
      "12-3\n",
      "[(2, 5, ['clockwise']), (3, 5, ['clockwise']), (4, 5, ['clockwise'])]\n",
      "3.0 3 5.0 6\n",
      "12-3\n",
      "[(2, 5, ['clockwise']), (3, 5, ['clockwise']), (4, 5, ['clockwise'])]\n",
      "3.0 3 5.0 6\n",
      "12-3\n",
      "[(2, 5, ['clockwise']), (3, 5, ['clockwise']), (4, 5, ['clockwise'])]\n",
      "3.0 3 5.0 6\n",
      "12-3\n",
      "[(2, 5, ['clockwise']), (3, 5, ['clockwise']), (4, 5, ['clockwise'])]\n",
      "3.0 3 5.0 6\n",
      "12-3\n",
      "[(2, 5, ['clockwise']), (3, 5, ['clockwise']), (4, 5, ['clockwise'])]\n",
      "3.0 3 5.0 6\n",
      "12-3\n",
      "[(2, 5, ['clockwise']), (3, 5, ['clockwise']), (4, 5, ['clockwise'])]\n",
      "3.0 3 5.0 6\n",
      "12-3\n",
      "[(2, 5, ['clockwise']), (3, 5, ['clockwise']), (4, 5, ['clockwise'])]\n",
      "3.0 3 5.0 6\n",
      "12-3\n",
      "[(2, 5, ['clockwise']), (3, 5, ['clockwise']), (4, 5, ['clockwise'])]\n",
      "3.0 3 5.0 6\n",
      "12-3\n",
      "[(2, 5, ['clockwise']), (3, 5, ['clockwise']), (4, 5, ['clockwise'])]\n",
      "3.0 3 5.0 6\n",
      "12-3\n"
     ]
    },
    {
     "data": {
      "text/plain": [
       "array([[' ', ' ', ' ', ' ', ' ', ' ', ' ', ' ', ' ', ' ', ' '],\n",
       "       [' ', ' ', ' ', ' ', ' ', ' ', ' ', ' ', ' ', ' ', ' '],\n",
       "       [' ', ' ', ' ', ' ', ' ', ' ', ' ', ' ', ' ', ' ', ' '],\n",
       "       [' ', ' ', ' ', ' ', ' ', ' ', ' ', ' ', ' ', ' ', ' '],\n",
       "       [' ', 'c', 'b', 'e', ' ', ' ', ' ', ' ', ' ', ' ', ' '],\n",
       "       [' ', ' ', '█', '█', '█', '█', ' ', ' ', ' ', ' ', ' '],\n",
       "       ['d', ' ', '█', ' ', ' ', '█', ' ', ' ', ' ', ' ', ' '],\n",
       "       ['a', ' ', '█', ' ', ' ', '█', ' ', ' ', ' ', ' ', ' '],\n",
       "       [' ', ' ', '█', '█', '█', '█', ' ', ' ', ' ', ' ', ' '],\n",
       "       [' ', ' ', ' ', ' ', ' ', ' ', ' ', ' ', ' ', ' ', ' '],\n",
       "       [' ', ' ', ' ', ' ', ' ', ' ', ' ', ' ', ' ', ' ', ' ']],\n",
       "      dtype='<U1')"
      ]
     },
     "execution_count": 1201,
     "metadata": {},
     "output_type": "execute_result"
    }
   ],
   "source": [
    "#check collision, moving to a point outside the frame, and walls\n",
    "# xloc = 2\n",
    "# yloc = 6\n",
    "xloc=10\n",
    "yloc=4\n",
    "char_list = [a,b,c,d,e]\n",
    "\n",
    "for BigC in char_list:\n",
    "        M.CharacterProceedToGround(BigC,xloc,yloc)\n",
    "np.rot90(M.map_character)"
   ]
  },
  {
   "cell_type": "code",
   "execution_count": 1175,
   "id": "bc4bed58-e7d5-402c-830b-adca7198fb80",
   "metadata": {},
   "outputs": [],
   "source": [
    "axa = [(0, 2), (0, 3), (0, 4), (1, 2), (1, 3), (1, 4)]"
   ]
  },
  {
   "cell_type": "code",
   "execution_count": 591,
   "id": "b9f1fb0d-add5-414f-b6fa-6c67ea1db96e",
   "metadata": {},
   "outputs": [
    {
     "data": {
      "text/plain": [
       "4"
      ]
     },
     "execution_count": 591,
     "metadata": {},
     "output_type": "execute_result"
    }
   ],
   "source": []
  },
  {
   "cell_type": "code",
   "execution_count": 586,
   "id": "16f3afb1-777c-43f3-88eb-4ae07430d7df",
   "metadata": {},
   "outputs": [
    {
     "data": {
      "text/plain": [
       "[(0, 4), (1, 4)]"
      ]
     },
     "execution_count": 586,
     "metadata": {},
     "output_type": "execute_result"
    }
   ],
   "source": [
    "[(x,y) for x,y in axa if y == 4]"
   ]
  },
  {
   "cell_type": "code",
   "execution_count": 566,
   "id": "0750dcb3-1c90-43dd-b462-a4bb7a8e3f65",
   "metadata": {},
   "outputs": [
    {
     "data": {
      "text/plain": [
       "[<Character.Character at 0xab6065d0>,\n",
       " <Character.Character at 0xab606cf0>,\n",
       " <Character.Character at 0xab6063f0>,\n",
       " <Character.Character at 0xab6067d0>,\n",
       " <Character.Character at 0xab606d30>,\n",
       " <Character.Character at 0xab606f70>,\n",
       " <Character.Character at 0xab606950>,\n",
       " <Character.Character at 0xab606a30>,\n",
       " <Character.Character at 0xab5f0790>,\n",
       " <Character.Character at 0xab606bb0>,\n",
       " <Character.Character at 0xab5f0030>,\n",
       " <Character.Character at 0xab5f01f0>]"
      ]
     },
     "execution_count": 566,
     "metadata": {},
     "output_type": "execute_result"
    }
   ],
   "source": [
    "M.list_static"
   ]
  },
  {
   "cell_type": "code",
   "execution_count": 513,
   "id": "ba6b0c5d-d710-40b5-9eef-0fd0aed2a125",
   "metadata": {},
   "outputs": [],
   "source": [
    "list_eligible = np.array([(0, 2), (0, 3), (0, 4), (1, 2), (1, 4)])\n",
    "list_distance = np.array([11 ,10 ,11 ,10 ,10])"
   ]
  },
  {
   "cell_type": "code",
   "execution_count": 514,
   "id": "7ea74e16-1ef8-4cf5-bd2e-231bd43a63b7",
   "metadata": {},
   "outputs": [
    {
     "data": {
      "text/plain": [
       "array([10, 10, 10])"
      ]
     },
     "execution_count": 514,
     "metadata": {},
     "output_type": "execute_result"
    }
   ],
   "source": [
    "list_distance[list_distance==min(list_distance)]"
   ]
  },
  {
   "cell_type": "code",
   "execution_count": 479,
   "id": "00b33cb7-45c6-49c7-b1e9-c0a95de51f5e",
   "metadata": {},
   "outputs": [
    {
     "data": {
      "text/plain": [
       "array([10])"
      ]
     },
     "execution_count": 479,
     "metadata": {},
     "output_type": "execute_result"
    }
   ],
   "source": [
    "list_distance[[True if x == min(list_distance) else False for x in list_distance]]"
   ]
  },
  {
   "cell_type": "code",
   "execution_count": null,
   "id": "0dcda777-b857-47a6-8b65-23e025b28b99",
   "metadata": {},
   "outputs": [],
   "source": [
    "[(0, 2), (0, 3), (0, 4), (1, 2), (1, 3), (1, 4)]`"
   ]
  },
  {
   "cell_type": "code",
   "execution_count": 293,
   "id": "ad36f655-2dd5-42ae-9f10-ee245a001769",
   "metadata": {
    "tags": []
   },
   "outputs": [
    {
     "name": "stdout",
     "output_type": "stream",
     "text": [
      "axa 5\n"
     ]
    },
    {
     "ename": "NameError",
     "evalue": "name 'pritn' is not defined",
     "output_type": "error",
     "traceback": [
      "\u001b[0;31m---------------------------------------------------------------------------\u001b[0m",
      "\u001b[0;31mNameError\u001b[0m                                 Traceback (most recent call last)",
      "\u001b[0;32m/tmp/ipykernel_11472/1898963688.py\u001b[0m in \u001b[0;36m<module>\u001b[0;34m\u001b[0m\n\u001b[0;32m----> 1\u001b[0;31m \u001b[0mM\u001b[0m\u001b[0;34m.\u001b[0m\u001b[0mCharacterProceedToGround\u001b[0m\u001b[0;34m(\u001b[0m\u001b[0ma\u001b[0m\u001b[0;34m,\u001b[0m\u001b[0;36m10\u001b[0m\u001b[0;34m,\u001b[0m\u001b[0;36m1\u001b[0m\u001b[0;34m)\u001b[0m\u001b[0;34m\u001b[0m\u001b[0;34m\u001b[0m\u001b[0m\n\u001b[0m\u001b[1;32m      2\u001b[0m \u001b[0;31m# M.CharacterProceedToGround(b,10,2)\u001b[0m\u001b[0;34m\u001b[0m\u001b[0;34m\u001b[0m\u001b[0;34m\u001b[0m\u001b[0m\n\u001b[1;32m      3\u001b[0m \u001b[0;31m# M.CharacterProceedToGround(c,10,3)\u001b[0m\u001b[0;34m\u001b[0m\u001b[0;34m\u001b[0m\u001b[0;34m\u001b[0m\u001b[0m\n\u001b[1;32m      4\u001b[0m \u001b[0;31m# M.CharacterProceedToGround(d,10,4)\u001b[0m\u001b[0;34m\u001b[0m\u001b[0;34m\u001b[0m\u001b[0;34m\u001b[0m\u001b[0m\n\u001b[1;32m      5\u001b[0m \u001b[0;31m# M.CharacterProceedToGround(e,10,5)\u001b[0m\u001b[0;34m\u001b[0m\u001b[0;34m\u001b[0m\u001b[0;34m\u001b[0m\u001b[0m\n",
      "\u001b[0;32m~/repo/dnd_kickstarter/Map.py\u001b[0m in \u001b[0;36mCharacterProceedToGround\u001b[0;34m(self, Character, x_pos, y_pos)\u001b[0m\n\u001b[1;32m    131\u001b[0m             \u001b[0;32mfor\u001b[0m \u001b[0mx_look\u001b[0m \u001b[0;32min\u001b[0m \u001b[0;34m[\u001b[0m\u001b[0mx_pos_current\u001b[0m\u001b[0;34m-\u001b[0m\u001b[0;36m1\u001b[0m\u001b[0;34m,\u001b[0m\u001b[0mx_pos_current\u001b[0m\u001b[0;34m,\u001b[0m\u001b[0mx_pos_current\u001b[0m\u001b[0;34m+\u001b[0m\u001b[0;36m1\u001b[0m\u001b[0;34m]\u001b[0m\u001b[0;34m:\u001b[0m\u001b[0;34m\u001b[0m\u001b[0;34m\u001b[0m\u001b[0m\n\u001b[1;32m    132\u001b[0m                 \u001b[0;32mfor\u001b[0m \u001b[0my_look\u001b[0m \u001b[0;32min\u001b[0m \u001b[0;34m[\u001b[0m\u001b[0my_pos_current\u001b[0m\u001b[0;34m-\u001b[0m\u001b[0;36m1\u001b[0m\u001b[0;34m,\u001b[0m\u001b[0my_pos_current\u001b[0m\u001b[0;34m,\u001b[0m\u001b[0my_pos_current\u001b[0m\u001b[0;34m+\u001b[0m\u001b[0;36m1\u001b[0m\u001b[0;34m]\u001b[0m\u001b[0;34m:\u001b[0m\u001b[0;34m\u001b[0m\u001b[0;34m\u001b[0m\u001b[0m\n\u001b[0;32m--> 133\u001b[0;31m                     \u001b[0mpritn\u001b[0m\u001b[0;34m(\u001b[0m\u001b[0mx_look\u001b[0m\u001b[0;34m,\u001b[0m\u001b[0my_look\u001b[0m\u001b[0;34m)\u001b[0m\u001b[0;34m\u001b[0m\u001b[0;34m\u001b[0m\u001b[0m\n\u001b[0m\u001b[1;32m    134\u001b[0m \u001b[0;34m\u001b[0m\u001b[0m\n\u001b[1;32m    135\u001b[0m                     \u001b[0;31m#check if we can move into the cell with suffient movement\u001b[0m\u001b[0;34m\u001b[0m\u001b[0;34m\u001b[0m\u001b[0;34m\u001b[0m\u001b[0m\n",
      "\u001b[0;31mNameError\u001b[0m: name 'pritn' is not defined"
     ]
    }
   ],
   "source": [
    "# check basic linear movement \n",
    "# M.CharacterProceedToGround(a,10,1)\n",
    "# M.CharacterProceedToGround(b,10,2)\n",
    "# M.CharacterProceedToGround(c,10,3)\n",
    "# M.CharacterProceedToGround(d,10,4)\n",
    "# M.CharacterProceedToGround(e,10,5)\n",
    "np.rot90(M.map_character)"
   ]
  },
  {
   "cell_type": "code",
   "execution_count": 32,
   "id": "4be5b640-7e7e-42cb-8d3f-5d2a61d6180d",
   "metadata": {},
   "outputs": [
    {
     "name": "stdout",
     "output_type": "stream",
     "text": [
      "Jazz\n"
     ]
    },
    {
     "data": {
      "text/plain": [
       "array([['', '', '', '', 'd', '', '', '', '', '', ''],\n",
       "       ['', '', '', '', '', '', '', '', '', '', ''],\n",
       "       ['', '', '', '', '', '', '', '', '', '', ''],\n",
       "       ['', '', '', '', '', '', '', '', '', '', ''],\n",
       "       ['', '', '', '', '', '', '', '', '', '', ''],\n",
       "       ['', '', '', '', '', '', '', '', '', '', ''],\n",
       "       ['', 'a', '', '', '', '', '', '', '', '', ''],\n",
       "       ['', '', '', '', '', '', '', '', '', '', ''],\n",
       "       ['', '', '', '', '', '', '', '', '', '', ''],\n",
       "       ['', '', 'b', '', '', '', '', '', '', '', ''],\n",
       "       ['', '', '', '', '', '', '', '', '', '', '']], dtype='<U1')"
      ]
     },
     "execution_count": 32,
     "metadata": {},
     "output_type": "execute_result"
    }
   ],
   "source": [
    "M.CharacterProceedTo(a,9,1)\n",
    "M.CharacterProceedTo(b,9,2)\n",
    "# M.CharacterProceedTo(c,9,3)\n",
    "M.CharacterProceedTo(d,9,4)\n",
    "\n",
    "M.map_character"
   ]
  },
  {
   "cell_type": "code",
   "execution_count": 28,
   "id": "00ba9cdc-4de6-4820-8cc5-a3e24f04a8ef",
   "metadata": {},
   "outputs": [
    {
     "data": {
      "text/plain": [
       "True"
      ]
     },
     "execution_count": 28,
     "metadata": {},
     "output_type": "execute_result"
    }
   ],
   "source": [
    "exe = [(0,0),(1,1)]\n",
    "(0,0) in exe"
   ]
  },
  {
   "cell_type": "code",
   "execution_count": null,
   "id": "4ec1168b-f2e9-40b8-bf71-399221699f85",
   "metadata": {},
   "outputs": [],
   "source": [
    "axa = 0\n",
    "bxb = 1\n",
    "np.random.choice([axa,bxb]"
   ]
  },
  {
   "cell_type": "code",
   "execution_count": null,
   "id": "04e768e8-98a6-4840-8a4e-6d6730057077",
   "metadata": {},
   "outputs": [],
   "source": [
    "M.CharacterErasePlot(C)"
   ]
  },
  {
   "cell_type": "code",
   "execution_count": null,
   "id": "11287f19-5b51-4c20-bb8b-94680b12af7b",
   "metadata": {},
   "outputs": [],
   "source": [
    "import math"
   ]
  },
  {
   "cell_type": "code",
   "execution_count": null,
   "id": "f03900fb-9575-4ab5-aef8-760f7b39106a",
   "metadata": {},
   "outputs": [],
   "source": [
    "a=5\n",
    "b=7\n",
    "R=10\n",
    "x=10\n",
    "y=-20\n"
   ]
  },
  {
   "cell_type": "code",
   "execution_count": null,
   "id": "0fa2e451-3865-4de6-9bbd-b3373d3ee2d7",
   "metadata": {},
   "outputs": [],
   "source": [
    "#determine angle\n",
    "angle =math.atan2((x-a),(y-b))\n",
    "angle"
   ]
  },
  {
   "cell_type": "code",
   "execution_count": null,
   "id": "ad34316f-c976-4d6a-be4a-64f3aeb2aaa2",
   "metadata": {},
   "outputs": [],
   "source": [
    "side_1 = R*math.cos(angle)\n",
    "side_2 = R*math.sin(angle)\n",
    "side_1,side_2"
   ]
  },
  {
   "cell_type": "code",
   "execution_count": null,
   "id": "dffa4eff-5007-42de-b76d-9f01eb6cb8b0",
   "metadata": {},
   "outputs": [],
   "source": [
    "fig, ax = plt.subplots(figsize=(10,10))\n",
    "ax.add_artist(plt.Circle((a, b), R))\n",
    "ax.plot([a,a+side_2], \n",
    "        [b,b+side_1], \n",
    "        'black',\n",
    "        linestyle=':',\n",
    "        marker='')\n",
    "ax.plot([x],[y],\"o\")\n",
    "plt.xlim((-25,25))\n",
    "plt.ylim((-25,25))\n",
    "plt.show()"
   ]
  },
  {
   "cell_type": "code",
   "execution_count": 229,
   "id": "d287dc4b-5fbc-4b61-9b4f-083a2f74ace4",
   "metadata": {},
   "outputs": [
    {
     "name": "stdout",
     "output_type": "stream",
     "text": [
      "0\n",
      "1\n",
      "2\n",
      "3\n",
      "4\n",
      "5\n",
      "6\n",
      "7\n",
      "8\n",
      "9\n"
     ]
    }
   ],
   "source": [
    "zzz = 0\n",
    "while 10 > 0 | zzz != 10:\n",
    "    print(zzz)\n",
    "    zzz += 1"
   ]
  },
  {
   "cell_type": "code",
   "execution_count": 261,
   "id": "15ffd483-a93b-4fe4-af6f-9e8631ce3d22",
   "metadata": {},
   "outputs": [
    {
     "data": {
      "text/plain": [
       "False"
      ]
     },
     "execution_count": 261,
     "metadata": {},
     "output_type": "execute_result"
    }
   ],
   "source": [
    "(0 > 0) & (((2 == 2 )& (2==3))==False)"
   ]
  },
  {
   "cell_type": "code",
   "execution_count": 242,
   "id": "78fc1f32-3241-4995-a634-3224e507a7ba",
   "metadata": {},
   "outputs": [
    {
     "name": "stdout",
     "output_type": "stream",
     "text": [
      "0\n"
     ]
    }
   ],
   "source": [
    "while True:\n",
    "    print(0)\n",
    "    break"
   ]
  },
  {
   "cell_type": "code",
   "execution_count": 272,
   "id": "f456afe6-6eef-444d-ab55-be0623c63d08",
   "metadata": {},
   "outputs": [
    {
     "data": {
      "text/plain": [
       "array([[5, 5, 5],\n",
       "       [5, 5, 5],\n",
       "       [5, 5, 5]])"
      ]
     },
     "execution_count": 272,
     "metadata": {},
     "output_type": "execute_result"
    }
   ],
   "source": [
    "M.map_difficulty[3:6,3:6]"
   ]
  },
  {
   "cell_type": "code",
   "execution_count": 273,
   "id": "edbbce25-ff7d-45a7-8ee6-494e6b69ed6f",
   "metadata": {},
   "outputs": [
    {
     "name": "stderr",
     "output_type": "stream",
     "text": [
      "[autoreload of Map failed: Traceback (most recent call last):\n",
      "  File \"/home/pi/repo/python_env/python_env/lib/python3.7/site-packages/IPython/extensions/autoreload.py\", line 245, in check\n",
      "    superreload(m, reload, self.old_objects)\n",
      "  File \"/home/pi/repo/python_env/python_env/lib/python3.7/site-packages/IPython/extensions/autoreload.py\", line 394, in superreload\n",
      "    module = reload(module)\n",
      "  File \"/usr/lib/python3.7/imp.py\", line 314, in reload\n",
      "    return importlib.reload(module)\n",
      "  File \"/usr/lib/python3.7/importlib/__init__.py\", line 169, in reload\n",
      "    _bootstrap._exec(spec, module)\n",
      "  File \"<frozen importlib._bootstrap>\", line 630, in _exec\n",
      "  File \"<frozen importlib._bootstrap_external>\", line 724, in exec_module\n",
      "  File \"<frozen importlib._bootstrap_external>\", line 860, in get_code\n",
      "  File \"<frozen importlib._bootstrap_external>\", line 791, in source_to_code\n",
      "  File \"<frozen importlib._bootstrap>\", line 219, in _call_with_frames_removed\n",
      "  File \"/home/pi/repo/dnd_kickstarter/Map.py\", line 146\n",
      "    angle = math.atan2((x_pos-x_pos_current),(y_pos-y_pos_current))\n",
      "    ^\n",
      "IndentationError: expected an indented block\n",
      "]\n"
     ]
    },
    {
     "data": {
      "text/plain": [
       "True"
      ]
     },
     "execution_count": 273,
     "metadata": {},
     "output_type": "execute_result"
    }
   ],
   "source": [
    "3 < 4 < 5\n"
   ]
  },
  {
   "cell_type": "code",
   "execution_count": null,
   "id": "34217eed-e542-4c9f-b12c-58fe772ee056",
   "metadata": {},
   "outputs": [],
   "source": []
  }
 ],
 "metadata": {
  "kernelspec": {
   "display_name": "Python 3",
   "language": "python",
   "name": "python3"
  },
  "language_info": {
   "codemirror_mode": {
    "name": "ipython",
    "version": 3
   },
   "file_extension": ".py",
   "mimetype": "text/x-python",
   "name": "python",
   "nbconvert_exporter": "python",
   "pygments_lexer": "ipython3",
   "version": "3.7.3"
  }
 },
 "nbformat": 4,
 "nbformat_minor": 5
}
