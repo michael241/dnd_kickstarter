{
 "cells": [
  {
   "cell_type": "code",
   "execution_count": 1,
   "id": "c6125835-070c-46d4-8878-19c7d371c414",
   "metadata": {},
   "outputs": [],
   "source": [
    "%load_ext autoreload\n",
    "%autoreload 2"
   ]
  },
  {
   "cell_type": "markdown",
   "id": "96ad0c28-37b5-41f2-884a-8adee21058bb",
   "metadata": {
    "jp-MarkdownHeadingCollapsed": true,
    "tags": []
   },
   "source": [
    "# Pyomo Example\n",
    "* Reference: https://jckantor.github.io/ND-Pyomo-Cookbook/\n",
    "* Install\n",
    "   * pip install pyomo\n",
    "   * In command line - apt install coinor-cbc"
   ]
  },
  {
   "cell_type": "markdown",
   "id": "3a825ebe-8ec7-4144-a037-8ed447d70ec6",
   "metadata": {},
   "source": [
    "# 0.0 Imports "
   ]
  },
  {
   "cell_type": "code",
   "execution_count": 18,
   "id": "87360247-b9fe-4008-9a96-e22b77eb3467",
   "metadata": {},
   "outputs": [],
   "source": [
    "import pyomo.environ as pe\n",
    "import matplotlib.pyplot as plt\n",
    "import numpy as np"
   ]
  },
  {
   "cell_type": "markdown",
   "id": "73d2ee65-d6c2-4fa6-b75a-990ac350192a",
   "metadata": {},
   "source": [
    "# 1.0 Test Model 1 - One Objective\n",
    "* Chapter 2.1"
   ]
  },
  {
   "cell_type": "code",
   "execution_count": 2,
   "id": "8de869a2-2180-4516-80ff-d8f99d6d1a91",
   "metadata": {},
   "outputs": [
    {
     "name": "stdout",
     "output_type": "stream",
     "text": [
      "# ==========================================================\n",
      "# = Solver Results                                         =\n",
      "# ==========================================================\n",
      "# ----------------------------------------------------------\n",
      "#   Problem Information\n",
      "# ----------------------------------------------------------\n",
      "Problem: \n",
      "- Name: unknown\n",
      "  Lower bound: 1600.0\n",
      "  Upper bound: 1600.0\n",
      "  Number of objectives: 1\n",
      "  Number of constraints: 4\n",
      "  Number of variables: 2\n",
      "  Number of nonzeros: 0\n",
      "  Sense: maximize\n",
      "# ----------------------------------------------------------\n",
      "#   Solver Information\n",
      "# ----------------------------------------------------------\n",
      "Solver: \n",
      "- Status: ok\n",
      "  User time: -1.0\n",
      "  System time: 0.0\n",
      "  Wallclock time: 0.01\n",
      "  Termination condition: optimal\n",
      "  Termination message: Model was solved to optimality (subject to tolerances), and an optimal solution is available.\n",
      "  Statistics: \n",
      "    Branch and bound: \n",
      "      Number of bounded subproblems: None\n",
      "      Number of created subproblems: None\n",
      "    Black box: \n",
      "      Number of iterations: 0\n",
      "  Error rc: 0\n",
      "  Time: 0.048941850662231445\n",
      "# ----------------------------------------------------------\n",
      "#   Solution Information\n",
      "# ----------------------------------------------------------\n",
      "Solution: \n",
      "- number of solutions: 0\n",
      "  number of solutions displayed: 0\n"
     ]
    }
   ],
   "source": [
    "model = pe.ConcreteModel()\n",
    "\n",
    "#set decision variable\n",
    "#\n",
    "model.x = pe.Var(domain=pe.NonNegativeReals)\n",
    "\n",
    "#declear obejective function\n",
    "model.profit = pe.Objective(expr=40*model.x, sense=pe.maximize)\n",
    "\n",
    "#declear constraints\n",
    "model.demand = pe.Constraint(expr = model.x <= 40)\n",
    "model.laborA = pe.Constraint(expr = model.x <= 80)\n",
    "model.laborB = pe.Constraint(expr = 2*model.x <= 100)\n",
    "\n",
    "#solve\n",
    "pe.SolverFactory('cbc').solve(model).write()"
   ]
  },
  {
   "cell_type": "markdown",
   "id": "7ba69ef1-9369-4996-9452-e6f11154ec7d",
   "metadata": {},
   "source": [
    "Outcome"
   ]
  },
  {
   "cell_type": "code",
   "execution_count": 3,
   "id": "76292331-8d83-44ee-903e-4e81a9c93f9b",
   "metadata": {},
   "outputs": [
    {
     "name": "stdout",
     "output_type": "stream",
     "text": [
      "Profit =  1600.0  per week\n",
      "X =  40.0  units per week\n"
     ]
    }
   ],
   "source": [
    "print(\"Profit = \", model.profit(), \" per week\")\n",
    "print(\"X = \", model.x(), \" units per week\")"
   ]
  },
  {
   "cell_type": "markdown",
   "id": "f95f263c-d060-4934-b09d-7070378d2e82",
   "metadata": {},
   "source": [
    "# 2.0 Mixed objective Strategy"
   ]
  },
  {
   "cell_type": "code",
   "execution_count": 10,
   "id": "390b8e64-ee65-4a1a-bb32-7fa9f6a9fefc",
   "metadata": {},
   "outputs": [
    {
     "name": "stdout",
     "output_type": "stream",
     "text": [
      "# ==========================================================\n",
      "# = Solver Results                                         =\n",
      "# ==========================================================\n",
      "# ----------------------------------------------------------\n",
      "#   Problem Information\n",
      "# ----------------------------------------------------------\n",
      "Problem: \n",
      "- Name: unknown\n",
      "  Lower bound: 2600.0\n",
      "  Upper bound: 2600.0\n",
      "  Number of objectives: 1\n",
      "  Number of constraints: 4\n",
      "  Number of variables: 3\n",
      "  Number of nonzeros: 2\n",
      "  Sense: maximize\n",
      "# ----------------------------------------------------------\n",
      "#   Solver Information\n",
      "# ----------------------------------------------------------\n",
      "Solver: \n",
      "- Status: ok\n",
      "  User time: -1.0\n",
      "  System time: 0.0\n",
      "  Wallclock time: 0.0\n",
      "  Termination condition: optimal\n",
      "  Termination message: Model was solved to optimality (subject to tolerances), and an optimal solution is available.\n",
      "  Statistics: \n",
      "    Branch and bound: \n",
      "      Number of bounded subproblems: None\n",
      "      Number of created subproblems: None\n",
      "    Black box: \n",
      "      Number of iterations: 2\n",
      "  Error rc: 0\n",
      "  Time: 0.0488591194152832\n",
      "# ----------------------------------------------------------\n",
      "#   Solution Information\n",
      "# ----------------------------------------------------------\n",
      "Solution: \n",
      "- number of solutions: 0\n",
      "  number of solutions displayed: 0\n"
     ]
    }
   ],
   "source": [
    "model2 = pe.ConcreteModel()\n",
    "\n",
    "#set decision variables\n",
    "model2.x = pe.Var(domain=pe.NonNegativeReals)\n",
    "model2.y = pe.Var(domain=pe.NonNegativeReals)\n",
    "\n",
    "#declear objective\n",
    "model2.profit = pe.Objective(expr=40*model2.x + 30*model2.y,\n",
    "                             sense=pe.maximize)\n",
    "\n",
    "#declare constrains\n",
    "model2.demand = pe.Constraint(expr = model2.x <=40)\n",
    "model2.laborA = pe.Constraint(expr = model2.x + model2.y <= 80)\n",
    "model2.laborB = pe.Constraint(expr = 2*model2.x + model2.y <= 100)\n",
    "\n",
    "pe.SolverFactory('cbc').solve(model2).write()"
   ]
  },
  {
   "cell_type": "code",
   "execution_count": 11,
   "id": "913a702b-52ce-4262-9f43-eb320afa7166",
   "metadata": {},
   "outputs": [
    {
     "name": "stdout",
     "output_type": "stream",
     "text": [
      "Profit =  2600.0\n",
      "Units of X =  20.0\n",
      "Units of Y =  60.0\n"
     ]
    }
   ],
   "source": [
    "# display solution\n",
    "print(\"Profit = \", model2.profit())\n",
    "print(\"Units of X = \", model2.x())\n",
    "print(\"Units of Y = \", model2.y())"
   ]
  },
  {
   "cell_type": "markdown",
   "id": "2549db52-3842-448e-a8ed-8ac74f407030",
   "metadata": {},
   "source": [
    "# 2.1 Visualization"
   ]
  },
  {
   "cell_type": "code",
   "execution_count": 27,
   "id": "e35da683-7ec1-4cc9-8878-8c8a3183e583",
   "metadata": {},
   "outputs": [
    {
     "data": {
      "image/png": "[encoded data removed]",
      "text/plain": [
       "<Figure size 432x432 with 1 Axes>"
      ]
     },
     "metadata": {
      "needs_background": "light"
     },
     "output_type": "display_data"
    }
   ],
   "source": [
    "plt.figure(figsize=(6, 6))\n",
    "plt.subplot(111, aspect='equal')\n",
    "plt.axis([0, 100, 0, 100])\n",
    "plt.xlabel('Production Qty X')\n",
    "plt.ylabel('Production Qty Y')\n",
    "\n",
    "#labor a constraint\n",
    "x = np.array([0, 80])\n",
    "y = 80 - x\n",
    "plt.plot(x, y, 'r', lw=2)\n",
    "plt.fill_between([0, 80, 100], [80, 0,0 ], [100, 100, 100], color='r', alpha=0.15)\n",
    "\n",
    "# Labor B constraint\n",
    "x = np.array([0, 50])\n",
    "y = 100 - 2*x\n",
    "plt.plot(x, y, 'b', lw=2)\n",
    "plt.fill_between([0, 50, 100], [100, 0, 0], [100, 100, 100], color='b', alpha=0.15)\n",
    "\n",
    "# Demand constraint\n",
    "plt.plot([40, 40], [0, 100], 'g', lw=2)\n",
    "plt.fill_between([40, 100], [0, 0], [100, 100], color='g', alpha=0.15)\n",
    "\n",
    "#legend\n",
    "plt.legend(['Labor A Constraint', 'Labor B Constraint', 'Demand Constraint'])\n",
    "\n",
    "#profit contour, indiffernece curves \n",
    "x = np.array([0, 100])\n",
    "for p in np.linspace(0, 3600, 10):\n",
    "    y = (p - 40*x)/30\n",
    "    plt.plot(x, y, 'y--')\n",
    "    \n",
    "#plot optimum\n",
    "plt.plot(20, 60, 'r.', ms=20)\n",
    "plt.annotate('Mixed Product Strategy', xy=(20, 60), xytext=(50, 70), \n",
    "             arrowprops=dict(shrink=.1, width=1, headwidth=5))\n",
    "\n",
    "plt.plot(0, 80, 'b.', ms=20)\n",
    "plt.annotate('Y Only', xy=(0, 80), xytext=(20, 90), \n",
    "             arrowprops=dict(shrink=0.1, width=1, headwidth=5))\n",
    "\n",
    "plt.plot(40, 0, 'b.', ms=20)\n",
    "plt.annotate('X Only', xy=(40, 0), xytext=(70, 20), \n",
    "             arrowprops=dict(shrink=0.1, width=1, headwidth=5))\n",
    "\n",
    "plt.text(4, 23, 'Increasing Profit')\n",
    "plt.annotate('', xy=(20,15), xytext=(0,0), \n",
    "             arrowprops=dict(width=0.5,headwidth=5))\n",
    "\n",
    "plt.show()"
   ]
  },
  {
   "cell_type": "markdown",
   "id": "b3bfc4c6-f43b-49af-ad2d-1f1f32903613",
   "metadata": {},
   "source": [
    "# 3.0 DND "
   ]
  },
  {
   "cell_type": "markdown",
   "id": "c6cefd60-acfa-4997-a739-b8893a799968",
   "metadata": {},
   "source": [
    "* Spendable Attributes:\n",
    "    * Health\n",
    "    * Movement\n",
    "    * Actions (Battle, Move, Bonus)\n",
    "    * Mutual Support\n",
    "    * Damage"
   ]
  },
  {
   "cell_type": "code",
   "execution_count": null,
   "id": "7b513ec6-9a71-4781-a7d9-abc1ecfc4df4",
   "metadata": {},
   "outputs": [],
   "source": []
  }
 ],
 "metadata": {
  "kernelspec": {
   "display_name": "Python 3",
   "language": "python",
   "name": "python3"
  },
  "language_info": {
   "codemirror_mode": {
    "name": "ipython",
    "version": 3
   },
   "file_extension": ".py",
   "mimetype": "text/x-python",
   "name": "python",
   "nbconvert_exporter": "python",
   "pygments_lexer": "ipython3",
   "version": "3.7.3"
  }
 },
 "nbformat": 4,
 "nbformat_minor": 5
}
