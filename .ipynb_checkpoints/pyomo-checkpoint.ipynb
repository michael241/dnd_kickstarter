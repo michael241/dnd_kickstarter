{
 "cells": [
  {
   "cell_type": "code",
   "execution_count": 1,
   "id": "c6125835-070c-46d4-8878-19c7d371c414",
   "metadata": {},
   "outputs": [],
   "source": [
    "%load_ext autoreload\n",
    "%autoreload 2"
   ]
  },
  {
   "cell_type": "markdown",
   "id": "96ad0c28-37b5-41f2-884a-8adee21058bb",
   "metadata": {
    "jp-MarkdownHeadingCollapsed": true,
    "tags": []
   },
   "source": [
    "# Pyomo Example\n",
    "* Reference: https://jckantor.github.io/ND-Pyomo-Cookbook/\n",
    "* Install\n",
    "   * pip install pyomo\n",
    "   * In command line - apt install coinor-cbc"
   ]
  },
  {
   "cell_type": "markdown",
   "id": "3a825ebe-8ec7-4144-a037-8ed447d70ec6",
   "metadata": {},
   "source": [
    "# 0.0 Imports "
   ]
  },
  {
   "cell_type": "code",
   "execution_count": 14,
   "id": "87360247-b9fe-4008-9a96-e22b77eb3467",
   "metadata": {},
   "outputs": [],
   "source": [
    "import pyomo.environ as pe\n",
    "import matplotlib.pyplot as plt\n",
    "import numpy as np\n",
    "\n",
    "#customer pacakges \n",
    "from SquareGraph import * \n",
    "from Cartographer import *\n",
    "from Character import *"
   ]
  },
  {
   "cell_type": "markdown",
   "id": "73d2ee65-d6c2-4fa6-b75a-990ac350192a",
   "metadata": {},
   "source": [
    "# 1.0 Test Model 1 - One Objective\n",
    "* Chapter 2.1"
   ]
  },
  {
   "cell_type": "code",
   "execution_count": 3,
   "id": "8de869a2-2180-4516-80ff-d8f99d6d1a91",
   "metadata": {},
   "outputs": [
    {
     "name": "stdout",
     "output_type": "stream",
     "text": [
      "# ==========================================================\n",
      "# = Solver Results                                         =\n",
      "# ==========================================================\n",
      "# ----------------------------------------------------------\n",
      "#   Problem Information\n",
      "# ----------------------------------------------------------\n",
      "Problem: \n",
      "- Name: unknown\n",
      "  Lower bound: 1600.0\n",
      "  Upper bound: 1600.0\n",
      "  Number of objectives: 1\n",
      "  Number of constraints: 4\n",
      "  Number of variables: 2\n",
      "  Number of nonzeros: 0\n",
      "  Sense: maximize\n",
      "# ----------------------------------------------------------\n",
      "#   Solver Information\n",
      "# ----------------------------------------------------------\n",
      "Solver: \n",
      "- Status: ok\n",
      "  User time: -1.0\n",
      "  System time: 0.0\n",
      "  Wallclock time: 0.01\n",
      "  Termination condition: optimal\n",
      "  Termination message: Model was solved to optimality (subject to tolerances), and an optimal solution is available.\n",
      "  Statistics: \n",
      "    Branch and bound: \n",
      "      Number of bounded subproblems: None\n",
      "      Number of created subproblems: None\n",
      "    Black box: \n",
      "      Number of iterations: 0\n",
      "  Error rc: 0\n",
      "  Time: 0.0514225959777832\n",
      "# ----------------------------------------------------------\n",
      "#   Solution Information\n",
      "# ----------------------------------------------------------\n",
      "Solution: \n",
      "- number of solutions: 0\n",
      "  number of solutions displayed: 0\n"
     ]
    }
   ],
   "source": [
    "model = pe.ConcreteModel()\n",
    "\n",
    "#set decision variable\n",
    "#\n",
    "model.x = pe.Var(domain=pe.NonNegativeReals)\n",
    "\n",
    "#declear obejective function\n",
    "model.profit = pe.Objective(expr=40*model.x, sense=pe.maximize)\n",
    "\n",
    "#declear constraints\n",
    "model.demand = pe.Constraint(expr = model.x <= 40)\n",
    "model.laborA = pe.Constraint(expr = model.x <= 80)\n",
    "model.laborB = pe.Constraint(expr = 2*model.x <= 100)\n",
    "\n",
    "#solve\n",
    "pe.SolverFactory('cbc').solve(model).write()"
   ]
  },
  {
   "cell_type": "markdown",
   "id": "7ba69ef1-9369-4996-9452-e6f11154ec7d",
   "metadata": {},
   "source": [
    "Outcome"
   ]
  },
  {
   "cell_type": "code",
   "execution_count": 4,
   "id": "76292331-8d83-44ee-903e-4e81a9c93f9b",
   "metadata": {},
   "outputs": [
    {
     "name": "stdout",
     "output_type": "stream",
     "text": [
      "Profit =  1600.0  per week\n",
      "X =  40.0  units per week\n"
     ]
    }
   ],
   "source": [
    "print(\"Profit = \", model.profit(), \" per week\")\n",
    "print(\"X = \", model.x(), \" units per week\")"
   ]
  },
  {
   "cell_type": "markdown",
   "id": "f95f263c-d060-4934-b09d-7070378d2e82",
   "metadata": {},
   "source": [
    "# 2.0 Mixed objective Strategy"
   ]
  },
  {
   "cell_type": "code",
   "execution_count": 5,
   "id": "390b8e64-ee65-4a1a-bb32-7fa9f6a9fefc",
   "metadata": {},
   "outputs": [
    {
     "name": "stdout",
     "output_type": "stream",
     "text": [
      "# ==========================================================\n",
      "# = Solver Results                                         =\n",
      "# ==========================================================\n",
      "# ----------------------------------------------------------\n",
      "#   Problem Information\n",
      "# ----------------------------------------------------------\n",
      "Problem: \n",
      "- Name: unknown\n",
      "  Lower bound: 2600.0\n",
      "  Upper bound: 2600.0\n",
      "  Number of objectives: 1\n",
      "  Number of constraints: 4\n",
      "  Number of variables: 3\n",
      "  Number of nonzeros: 2\n",
      "  Sense: maximize\n",
      "# ----------------------------------------------------------\n",
      "#   Solver Information\n",
      "# ----------------------------------------------------------\n",
      "Solver: \n",
      "- Status: ok\n",
      "  User time: -1.0\n",
      "  System time: 0.0\n",
      "  Wallclock time: 0.0\n",
      "  Termination condition: optimal\n",
      "  Termination message: Model was solved to optimality (subject to tolerances), and an optimal solution is available.\n",
      "  Statistics: \n",
      "    Branch and bound: \n",
      "      Number of bounded subproblems: None\n",
      "      Number of created subproblems: None\n",
      "    Black box: \n",
      "      Number of iterations: 2\n",
      "  Error rc: 0\n",
      "  Time: 0.05607938766479492\n",
      "# ----------------------------------------------------------\n",
      "#   Solution Information\n",
      "# ----------------------------------------------------------\n",
      "Solution: \n",
      "- number of solutions: 0\n",
      "  number of solutions displayed: 0\n"
     ]
    }
   ],
   "source": [
    "model2 = pe.ConcreteModel()\n",
    "\n",
    "#set decision variables\n",
    "model2.x = pe.Var(domain=pe.NonNegativeReals)\n",
    "model2.y = pe.Var(domain=pe.NonNegativeReals)\n",
    "\n",
    "#declear objective\n",
    "model2.profit = pe.Objective(expr=40*model2.x + 30*model2.y,\n",
    "                             sense=pe.maximize)\n",
    "\n",
    "#declare constrains\n",
    "model2.demand = pe.Constraint(expr = model2.x <=40)\n",
    "model2.laborA = pe.Constraint(expr = model2.x + model2.y <= 80)\n",
    "model2.laborB = pe.Constraint(expr = 2*model2.x + model2.y <= 100)\n",
    "\n",
    "pe.SolverFactory('cbc').solve(model2).write()"
   ]
  },
  {
   "cell_type": "code",
   "execution_count": 6,
   "id": "913a702b-52ce-4262-9f43-eb320afa7166",
   "metadata": {},
   "outputs": [
    {
     "name": "stdout",
     "output_type": "stream",
     "text": [
      "Profit =  2600.0\n",
      "Units of X =  20.0\n",
      "Units of Y =  60.0\n"
     ]
    }
   ],
   "source": [
    "# display solution\n",
    "print(\"Profit = \", model2.profit())\n",
    "print(\"Units of X = \", model2.x())\n",
    "print(\"Units of Y = \", model2.y())"
   ]
  },
  {
   "cell_type": "markdown",
   "id": "2549db52-3842-448e-a8ed-8ac74f407030",
   "metadata": {},
   "source": [
    "# 2.1 Visualization"
   ]
  },
  {
   "cell_type": "code",
   "execution_count": 7,
   "id": "e35da683-7ec1-4cc9-8878-8c8a3183e583",
   "metadata": {},
   "outputs": [
    {
     "data": {
      "image/png": "[encoded data removed]",
      "text/plain": [
       "<Figure size 432x432 with 1 Axes>"
      ]
     },
     "metadata": {
      "needs_background": "light"
     },
     "output_type": "display_data"
    }
   ],
   "source": [
    "plt.figure(figsize=(6, 6))\n",
    "plt.subplot(111, aspect='equal')\n",
    "plt.axis([0, 100, 0, 100])\n",
    "plt.xlabel('Production Qty X')\n",
    "plt.ylabel('Production Qty Y')\n",
    "\n",
    "#labor a constraint\n",
    "x = np.array([0, 80])\n",
    "y = 80 - x\n",
    "plt.plot(x, y, 'r', lw=2)\n",
    "plt.fill_between([0, 80, 100], [80, 0,0 ], [100, 100, 100], color='r', alpha=0.15)\n",
    "\n",
    "# Labor B constraint\n",
    "x = np.array([0, 50])\n",
    "y = 100 - 2*x\n",
    "plt.plot(x, y, 'b', lw=2)\n",
    "plt.fill_between([0, 50, 100], [100, 0, 0], [100, 100, 100], color='b', alpha=0.15)\n",
    "\n",
    "# Demand constraint\n",
    "plt.plot([40, 40], [0, 100], 'g', lw=2)\n",
    "plt.fill_between([40, 100], [0, 0], [100, 100], color='g', alpha=0.15)\n",
    "\n",
    "#legend\n",
    "plt.legend(['Labor A Constraint', 'Labor B Constraint', 'Demand Constraint'])\n",
    "\n",
    "#profit contour, indiffernece curves \n",
    "x = np.array([0, 100])\n",
    "for p in np.linspace(0, 3600, 10):\n",
    "    y = (p - 40*x)/30\n",
    "    plt.plot(x, y, 'y--')\n",
    "    \n",
    "#plot optimum\n",
    "plt.plot(20, 60, 'r.', ms=20)\n",
    "plt.annotate('Mixed Product Strategy', xy=(20, 60), xytext=(50, 70), \n",
    "             arrowprops=dict(shrink=.1, width=1, headwidth=5))\n",
    "\n",
    "plt.plot(0, 80, 'b.', ms=20)\n",
    "plt.annotate('Y Only', xy=(0, 80), xytext=(20, 90), \n",
    "             arrowprops=dict(shrink=0.1, width=1, headwidth=5))\n",
    "\n",
    "plt.plot(40, 0, 'b.', ms=20)\n",
    "plt.annotate('X Only', xy=(40, 0), xytext=(70, 20), \n",
    "             arrowprops=dict(shrink=0.1, width=1, headwidth=5))\n",
    "\n",
    "plt.text(4, 23, 'Increasing Profit')\n",
    "plt.annotate('', xy=(20,15), xytext=(0,0), \n",
    "             arrowprops=dict(width=0.5,headwidth=5))\n",
    "\n",
    "plt.show()"
   ]
  },
  {
   "cell_type": "markdown",
   "id": "b3bfc4c6-f43b-49af-ad2d-1f1f32903613",
   "metadata": {},
   "source": [
    "# 3.0 DND "
   ]
  },
  {
   "cell_type": "markdown",
   "id": "c6cefd60-acfa-4997-a739-b8893a799968",
   "metadata": {},
   "source": [
    "* Spendable Attributes:\n",
    "    * Health\n",
    "    * <s>Movement</s>\n",
    "    * <s>Actions (Battle, Move, Bonus)</s>\n",
    "    * <s>Mutual Support</s>\n",
    "    * <s>Damage</s>"
   ]
  },
  {
   "cell_type": "markdown",
   "id": "bf759009-7e8a-425e-b453-bf33cfba69e5",
   "metadata": {},
   "source": [
    "# 3.1"
   ]
  },
  {
   "cell_type": "markdown",
   "id": "94b63a7b-09b2-44ad-aa8f-dd0db170c52c",
   "metadata": {},
   "source": [
    "Build map and supply with two charactesr "
   ]
  },
  {
   "cell_type": "code",
   "execution_count": 307,
   "id": "b6a58e4b-042d-4173-b8c5-fd7aa14437cb",
   "metadata": {},
   "outputs": [
    {
     "data": {
      "image/png": "[encoded data removed]",
      "text/plain": [
       "<Figure size 315x262.5 with 1 Axes>"
      ]
     },
     "metadata": {},
     "output_type": "display_data"
    }
   ],
   "source": [
    "#make map\n",
    "wr = Cartographer()\n",
    "wr.Background(7,6,\"OOO\",\"white\")\n",
    "wr.UpdateSquare(0,3,\"BBB\",l=\"m\") \n",
    "wr.UpdateSquare(1,0,\"BBB\",l=\"m\") \n",
    "wr.UpdateSquare(1,3,\"BBB\",l=\"m\") \n",
    "wr.UpdateSquare(2,2,\"BBB\",l=\"m\") \n",
    "wr.UpdateSquare(2,3,\"BBB\",l=\"m\") \n",
    "wr.UpdateSquare(3,1,\"BBB\",l=\"m\") \n",
    "wr.UpdateSquare(3,2,\"BBB\",l=\"m\") \n",
    "wr.UpdateSquare(1,5,\"BBB\",l=\"m\") \n",
    "wr.UpdateSquare(3,3,\"BBB\",l=\"m\") \n",
    "wr.UpdateSquare(3,4,\"BBB\",l=\"m\") \n",
    "wr.UpdateSquare(4,4,\"BBB\",l=\"m\")\n",
    "\n",
    "#make characters \n",
    "A = Character(speed=10,\n",
    "              name='A',\n",
    "              icon='A',\n",
    "              level=1,\n",
    "              team=0,\n",
    "              hit_point_current=1,\n",
    "              hit_dice=Dice(4,12),\n",
    "              x=0,\n",
    "              y=0,\n",
    "              sth=12,\n",
    "              con=10,\n",
    "              armor=13,\n",
    "              melee_damage=Dice(1,8,2),\n",
    "              range_damage=Dice(1,4,1),\n",
    "              proficiency_bonus=1\n",
    "             )\n",
    "\n",
    "B1 = Character(speed=5,\n",
    "              name='B1',\n",
    "              icon='B1',\n",
    "              level=1,\n",
    "              team=1,\n",
    "              hit_point_current=1,\n",
    "              hit_dice=Dice(2,8),\n",
    "              x=0,\n",
    "              y=5,\n",
    "              sth=14,\n",
    "              con=12,\n",
    "              armor=13,\n",
    "              melee_damage=Dice(1,4,2),\n",
    "              range_damage=Dice(1,2,1),\n",
    "              proficiency_bonus=1\n",
    "             )\n",
    "\n",
    "B2 = Character(speed=5,\n",
    "              name='B2',\n",
    "              icon='B2',\n",
    "              level=1,\n",
    "              team=1,\n",
    "              hit_point_current=1,\n",
    "              hit_dice=Dice(2,8),\n",
    "              x=5,\n",
    "              y=4,\n",
    "              sth=14,\n",
    "              con=12,\n",
    "              armor=13,\n",
    "              melee_damage=Dice(1,4,2),\n",
    "              range_damage=Dice(1,2,1),\n",
    "              proficiency_bonus=1\n",
    "             )\n",
    "\n",
    "wr_mm = SquareGraph(SquareList=wr.map_holder,CharacterList=[A,B1,B2])\n",
    "wr_mm.MakeMap()\n",
    "\n",
    "wr_mm.ShowMap(SaveFig=False,PlotGraph=True,SaveName=\"TestMap.png\")"
   ]
  },
  {
   "cell_type": "code",
   "execution_count": 308,
   "id": "863930a6-6f7e-40a9-8aa8-5912113c20c3",
   "metadata": {},
   "outputs": [
    {
     "name": "stdout",
     "output_type": "stream",
     "text": [
      "\n",
      "index 0\n",
      "len 3\n",
      "icon A\n",
      "location 0 0\n",
      "Target None None\n",
      "Map Status [('A', 1), ('B1', 1), ('B2', 1)]\n",
      "Enemy Line [2]\n",
      "\n",
      "index 1\n",
      "len 3\n",
      "icon B1\n",
      "location 0 5\n",
      "Target None None\n",
      "Map Status [('A', 1), ('B1', 1), ('B2', 1)]\n",
      "Enemy Line [0]\n",
      "\n",
      "index 2\n",
      "len 3\n",
      "icon B2\n",
      "location 5 4\n",
      "Target None None\n",
      "Map Status [('A', 1), ('B1', 1), ('B2', 1)]\n",
      "Enemy Line [0]\n",
      "\n",
      "index 0\n",
      "len 3\n",
      "icon A\n",
      "location 1 1\n",
      "Target 5 4\n",
      "Map Status [('A', 1), ('B1', 1), ('B2', 1)]\n",
      "Enemy Line [2]\n",
      "\n",
      "index 1\n",
      "len 3\n",
      "icon B1\n",
      "location 1 4\n",
      "Target 1 1\n",
      "Map Status [('A', 1), ('B1', 1), ('B2', 1)]\n",
      "Enemy Line [0]\n",
      "\n",
      "index 2\n",
      "len 3\n",
      "icon B2\n",
      "location 4 3\n",
      "Target 1 1\n",
      "Map Status [('A', 1), ('B1', 1), ('B2', 1)]\n",
      "Enemy Line [0]\n",
      "\n",
      "index 0\n",
      "len 3\n",
      "icon A\n",
      "location 2 0\n",
      "Target 4 3\n",
      "Map Status [('A', 1), ('B1', 1), ('B2', 1)]\n",
      "Enemy Line [2]\n",
      "\n",
      "index 1\n",
      "len 3\n",
      "icon B1\n",
      "location 2 4\n",
      "Target 2 0\n",
      "Map Status [('A', 1), ('B1', 1), ('B2', 1)]\n",
      "Enemy Line [0]\n",
      "\n",
      "index 2\n",
      "len 3\n",
      "icon B2\n",
      "location 4 2\n",
      "Target 2 0\n",
      "Map Status [('A', 1), ('B1', 1), ('B2', 1)]\n",
      "Enemy Line [0]\n",
      "\n",
      "index 0\n",
      "len 3\n",
      "icon A\n",
      "location 3 0\n",
      "Target 4 2\n",
      "Map Status [('A', 1), ('B1', 1), ('B2', 1)]\n",
      "Enemy Line [2]\n",
      "\n",
      "index 1\n",
      "len 2\n",
      "icon B1\n",
      "location 3 5\n",
      "Target 3 0\n",
      "Map Status [('A', 1), ('B1', 1)]\n",
      "Enemy Line [0]\n",
      "\n",
      "index 0\n",
      "len 2\n",
      "icon A\n",
      "location 3 0\n",
      "Target 4 1\n",
      "Map Status [('A', 1), ('B1', 1)]\n",
      "Enemy Line []\n"
     ]
    },
    {
     "ename": "IndexError",
     "evalue": "list index out of range",
     "output_type": "error",
     "traceback": [
      "\u001b[0;31m---------------------------------------------------------------------------\u001b[0m",
      "\u001b[0;31mIndexError\u001b[0m                                Traceback (most recent call last)",
      "\u001b[0;32m/tmp/ipykernel_2368/68257926.py\u001b[0m in \u001b[0;36m<module>\u001b[0;34m\u001b[0m\n\u001b[1;32m      4\u001b[0m \u001b[0;34m\u001b[0m\u001b[0m\n\u001b[1;32m      5\u001b[0m     \u001b[0;31m#set outcome\u001b[0m\u001b[0;34m\u001b[0m\u001b[0;34m\u001b[0m\u001b[0;34m\u001b[0m\u001b[0m\n\u001b[0;32m----> 6\u001b[0;31m     \u001b[0moutcome\u001b[0m \u001b[0;34m=\u001b[0m \u001b[0mwr_mm\u001b[0m\u001b[0;34m.\u001b[0m\u001b[0mIterateMap\u001b[0m\u001b[0;34m(\u001b[0m\u001b[0;34m)\u001b[0m\u001b[0;34m\u001b[0m\u001b[0;34m\u001b[0m\u001b[0m\n\u001b[0m\u001b[1;32m      7\u001b[0m \u001b[0;34m\u001b[0m\u001b[0m\n\u001b[1;32m      8\u001b[0m     \u001b[0;31m#update map\u001b[0m\u001b[0;34m\u001b[0m\u001b[0;34m\u001b[0m\u001b[0;34m\u001b[0m\u001b[0m\n",
      "\u001b[0;32m~/repo/dnd_kickstarter/SquareGraph.py\u001b[0m in \u001b[0;36mIterateMap\u001b[0;34m(self)\u001b[0m\n\u001b[1;32m    358\u001b[0m \u001b[0;34m\u001b[0m\u001b[0m\n\u001b[1;32m    359\u001b[0m             \u001b[0;31m#determine enemy index\u001b[0m\u001b[0;34m\u001b[0m\u001b[0;34m\u001b[0m\u001b[0;34m\u001b[0m\u001b[0m\n\u001b[0;32m--> 360\u001b[0;31m             \u001b[0menemy_index\u001b[0m \u001b[0;34m=\u001b[0m \u001b[0;34m[\u001b[0m\u001b[0ma\u001b[0m \u001b[0;32mfor\u001b[0m \u001b[0ma\u001b[0m\u001b[0;34m,\u001b[0m\u001b[0mc\u001b[0m \u001b[0;32min\u001b[0m \u001b[0menumerate\u001b[0m\u001b[0;34m(\u001b[0m\u001b[0mself\u001b[0m\u001b[0;34m.\u001b[0m\u001b[0mCharacterList\u001b[0m\u001b[0;34m)\u001b[0m \u001b[0;32mif\u001b[0m \u001b[0mc\u001b[0m\u001b[0;34m.\u001b[0m\u001b[0mx\u001b[0m \u001b[0;34m==\u001b[0m \u001b[0mself\u001b[0m\u001b[0;34m.\u001b[0m\u001b[0mCharacterList\u001b[0m\u001b[0;34m[\u001b[0m\u001b[0mi\u001b[0m\u001b[0;34m]\u001b[0m\u001b[0;34m.\u001b[0m\u001b[0mx_target\u001b[0m \u001b[0;32mand\u001b[0m \u001b[0mc\u001b[0m\u001b[0;34m.\u001b[0m\u001b[0my\u001b[0m \u001b[0;34m==\u001b[0m \u001b[0mself\u001b[0m\u001b[0;34m.\u001b[0m\u001b[0mCharacterList\u001b[0m\u001b[0;34m[\u001b[0m\u001b[0mi\u001b[0m\u001b[0;34m]\u001b[0m\u001b[0;34m.\u001b[0m\u001b[0my_target\u001b[0m \u001b[0;32mand\u001b[0m \u001b[0mc\u001b[0m\u001b[0;34m.\u001b[0m\u001b[0mteam\u001b[0m \u001b[0;34m!=\u001b[0m \u001b[0mself\u001b[0m\u001b[0;34m.\u001b[0m\u001b[0mCharacterList\u001b[0m\u001b[0;34m[\u001b[0m\u001b[0mi\u001b[0m\u001b[0;34m]\u001b[0m\u001b[0;34m.\u001b[0m\u001b[0mteam\u001b[0m\u001b[0;34m]\u001b[0m\u001b[0;34m[\u001b[0m\u001b[0;36m0\u001b[0m\u001b[0;34m]\u001b[0m\u001b[0;34m\u001b[0m\u001b[0;34m\u001b[0m\u001b[0m\n\u001b[0m\u001b[1;32m    361\u001b[0m \u001b[0;34m\u001b[0m\u001b[0m\n\u001b[1;32m    362\u001b[0m             \u001b[0;31m#determine adjacemetn squares to current poition of character\u001b[0m\u001b[0;34m\u001b[0m\u001b[0;34m\u001b[0m\u001b[0;34m\u001b[0m\u001b[0m\n",
      "\u001b[0;31mIndexError\u001b[0m: list index out of range"
     ]
    },
    {
     "data": {
      "image/png": "[encoded data removed]",
      "text/plain": [
       "<Figure size 315x262.5 with 1 Axes>"
      ]
     },
     "metadata": {
      "needs_background": "light"
     },
     "output_type": "display_data"
    },
    {
     "data": {
      "image/png": "[encoded data removed]",
      "text/plain": [
       "<Figure size 315x262.5 with 1 Axes>"
      ]
     },
     "metadata": {
      "needs_background": "light"
     },
     "output_type": "display_data"
    },
    {
     "data": {
      "image/png": "[encoded data removed]",
      "text/plain": [
       "<Figure size 315x262.5 with 1 Axes>"
      ]
     },
     "metadata": {
      "needs_background": "light"
     },
     "output_type": "display_data"
    },
    {
     "data": {
      "image/png": "[encoded data removed]",
      "text/plain": [
       "<Figure size 315x262.5 with 1 Axes>"
      ]
     },
     "metadata": {
      "needs_background": "light"
     },
     "output_type": "display_data"
    }
   ],
   "source": [
    "outcome = \"Combat Continue\"\n",
    "\n",
    "while outcome == \"Combat Continue\":\n",
    "    \n",
    "    #set outcome\n",
    "    outcome = wr_mm.IterateMap()\n",
    "    \n",
    "    #update map\n",
    "    wr_mm.ShowMap(SaveFig=False,PlotGraph=False,SaveName=\"TestMap.png\")"
   ]
  },
  {
   "cell_type": "code",
   "execution_count": null,
   "id": "96a71e4b-3116-4793-9eb7-0d1857d56c48",
   "metadata": {},
   "outputs": [],
   "source": []
  }
 ],
 "metadata": {
  "kernelspec": {
   "display_name": "Python 3",
   "language": "python",
   "name": "python3"
  },
  "language_info": {
   "codemirror_mode": {
    "name": "ipython",
    "version": 3
   },
   "file_extension": ".py",
   "mimetype": "text/x-python",
   "name": "python",
   "nbconvert_exporter": "python",
   "pygments_lexer": "ipython3",
   "version": "3.7.3"
  }
 },
 "nbformat": 4,
 "nbformat_minor": 5
}
