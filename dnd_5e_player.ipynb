{
 "cells": [
  {
   "cell_type": "code",
   "execution_count": 1,
   "id": "a39f9a43-7a1b-4a9e-9c25-b41645300192",
   "metadata": {},
   "outputs": [],
   "source": [
    "%load_ext autoreload\n",
    "%autoreload 2"
   ]
  },
  {
   "cell_type": "markdown",
   "id": "6b11cdc1-ff74-4e1d-b4c8-88882b941547",
   "metadata": {},
   "source": [
    "# Purpose: Build and Test Character Classes "
   ]
  },
  {
   "cell_type": "markdown",
   "id": "f8936c8c-9b6f-4692-831a-65972ed293e5",
   "metadata": {},
   "source": [
    "# 0.0 Imports "
   ]
  },
  {
   "cell_type": "code",
   "execution_count": 2,
   "id": "55033fae-2a07-4cf7-9076-12a00c048f04",
   "metadata": {},
   "outputs": [],
   "source": [
    "import numpy as np\n",
    "import pandas as pd"
   ]
  },
  {
   "cell_type": "code",
   "execution_count": 3,
   "id": "3fece36d-2b60-42a0-b591-95fdb4e1e823",
   "metadata": {},
   "outputs": [],
   "source": [
    "from Character import Character\n",
    "from Character import Dice\n",
    "from Character import D20\n",
    "from Character import SkillConvert\n",
    "from Character import RedCap\n",
    "from Character import PC"
   ]
  },
  {
   "cell_type": "markdown",
   "id": "bf54aea3-2e5e-4ca4-a672-d84c13923bf8",
   "metadata": {},
   "source": [
    "# 1.0 Test "
   ]
  },
  {
   "cell_type": "code",
   "execution_count": null,
   "id": "749491f7-801b-42d9-8d5d-65ae827cb06d",
   "metadata": {},
   "outputs": [],
   "source": [
    "class RedCap(Character):\n",
    "    \"\"\" monster - kobold redcoat\"\"\"\n",
    "    \n",
    "    def __init__(self):\n",
    "        Character.__init__(self,\n",
    "                           name='RedCap',\n",
    "                           level=2,\n",
    "                           hit_dice=Dice(1,6),\n",
    "                           armor=12,\n",
    "                           speed=30,\n",
    "                           sth=7,\n",
    "                           dex=15,\n",
    "                           con=9,\n",
    "                           inl=8,\n",
    "                           wis=8,\n",
    "                           cha=7,\n",
    "                           proficiency_list=['animal_handling'],\n",
    "                           expertise_list=[])\n",
    "        \n",
    "        #set\n",
    "        self.Setup()\n",
    "        \n",
    "    pass\n"
   ]
  },
  {
   "cell_type": "code",
   "execution_count": 4,
   "id": "e0509932-8260-4e62-8522-d9f02b3e808b",
   "metadata": {},
   "outputs": [],
   "source": [
    "R = RedCap()\n"
   ]
  },
  {
   "cell_type": "code",
   "execution_count": 5,
   "id": "901de15c-4300-49a9-b72e-a2977f796d38",
   "metadata": {},
   "outputs": [],
   "source": [
    "Bronce = PC(\n",
    "           name='Bronce'\n",
    "          ,level=14\n",
    "          ,hit_point_max = 129\n",
    "          ,hit_dice=Dice(1,8)\n",
    "          ,general_status=\"alive_and_well\"\n",
    "          ,advantage_status=\"base\"\n",
    "          ,armor=13\n",
    "          ,speed=25\n",
    "          ,sth=8\n",
    "          ,dex=10\n",
    "          ,con=16\n",
    "          ,inl=10\n",
    "          ,wis=16\n",
    "          ,cha=18\n",
    "          ,proficiency_bonus=5\n",
    "          ,proficiency_list=['acrobatics',\n",
    "                             'insight',\n",
    "                             'investigation']\n",
    "            \n",
    "          ,expertise_list=['deception',\n",
    "                           'performance',\n",
    "                           'persuasion',\n",
    "                           'sleight_of_hand'])"
   ]
  },
  {
   "cell_type": "code",
   "execution_count": 6,
   "id": "e9482296-eef6-43bf-8b76-cf34c70a93fe",
   "metadata": {},
   "outputs": [],
   "source": [
    "Harlon = PC(\n",
    "           name='Harlon'\n",
    "          ,level=14\n",
    "          ,hit_point_max = 129\n",
    "          ,hit_dice=Dice(1,8)\n",
    "          ,general_status=\"alive_and_well\"\n",
    "          ,advantage_status=\"base\"\n",
    "          ,armor=22\n",
    "          ,speed=30\n",
    "          ,sth=8\n",
    "          ,dex=14\n",
    "          ,con=19\n",
    "          ,inl=20\n",
    "          ,wis=12\n",
    "          ,cha=10\n",
    "          ,proficiency_bonus=5\n",
    "          ,proficiency_list=['arcana',\n",
    "                             'athletics',\n",
    "                             'intimidation',\n",
    "                             'investigation',\n",
    "                             'medicine']\n",
    "            \n",
    "          ,expertise_list=[])"
   ]
  },
  {
   "cell_type": "code",
   "execution_count": 7,
   "id": "3489c866-ec7d-42d3-918c-10ad4d969305",
   "metadata": {},
   "outputs": [],
   "source": [
    "Mae = PC(name='Mae'\n",
    "          ,level=14\n",
    "          ,hit_point_max = 101\n",
    "          ,hit_dice=Dice(1,8)\n",
    "          ,general_status=\"alive_and_well\"\n",
    "          ,advantage_status=\"base\"\n",
    "          ,armor=18\n",
    "          ,speed=55\n",
    "          ,sth=12\n",
    "          ,dex=18\n",
    "          ,con=14\n",
    "          ,inl=10\n",
    "          ,wis=18\n",
    "          ,cha=10\n",
    "          ,proficiency_bonus=5\n",
    "          ,proficiency_list=['acrobatics',\n",
    "                             'athletics',\n",
    "                             'medicine',\n",
    "                             'perception',\n",
    "                             'religion',\n",
    "                             'stealth']\n",
    "            \n",
    "          ,expertise_list=[])"
   ]
  },
  {
   "cell_type": "code",
   "execution_count": 8,
   "id": "aad210eb-80b0-4f13-b397-fe357a4eb904",
   "metadata": {},
   "outputs": [],
   "source": [
    "Sasha = PC(name='Sasha'\n",
    "          ,level=14\n",
    "          ,hit_point_max = 86\n",
    "          ,hit_dice=Dice(1,8)\n",
    "          ,general_status=\"alive_and_well\"\n",
    "          ,advantage_status=\"base\"\n",
    "          ,armor=16\n",
    "          ,speed=30\n",
    "          ,sth=8\n",
    "          ,dex=16\n",
    "          ,con=14\n",
    "          ,inl=11\n",
    "          ,wis=12\n",
    "          ,cha=19\n",
    "          ,proficiency_bonus=5\n",
    "          ,proficiency_list=['arcana',\n",
    "                             'insight',\n",
    "                             'investigation',\n",
    "                             'perception',\n",
    "                             'survivial']\n",
    "            \n",
    "          ,expertise_list=[])"
   ]
  },
  {
   "cell_type": "code",
   "execution_count": 9,
   "id": "bb8f9812-fc41-43f2-8e1d-80b06761fd05",
   "metadata": {},
   "outputs": [],
   "source": [
    "Yvain = PC(\n",
    "          name='Yvain'\n",
    "          ,level=14\n",
    "          ,hit_point_max = 115\n",
    "          ,hit_dice=Dice(1,8)\n",
    "          ,general_status=\"alive_and_well\"\n",
    "          ,advantage_status=\"base\"\n",
    "          ,armor=19\n",
    "          ,speed=30\n",
    "          ,sth=13\n",
    "          ,dex=12\n",
    "          ,con=16\n",
    "          ,inl=10\n",
    "          ,wis=20\n",
    "          ,cha=9\n",
    "          ,proficiency_bonus=5\n",
    "          ,proficiency_list=['history',\n",
    "                             'insight',\n",
    "                             'persuasin',\n",
    "                             'religion']\n",
    "            \n",
    "          ,expertise_list=[])"
   ]
  },
  {
   "cell_type": "code",
   "execution_count": 10,
   "id": "64b20c70-8649-4410-b1d3-12317deaef3b",
   "metadata": {},
   "outputs": [],
   "source": [
    "Party = [Bronce,Harlon,Mae,Sasha,Yvain]"
   ]
  },
  {
   "cell_type": "code",
   "execution_count": 11,
   "id": "180a772c-8bf3-4838-a317-3933cb629e79",
   "metadata": {},
   "outputs": [],
   "source": [
    "Skills= (['stn','dex','con','inl','wis','cha']+\n",
    "['athletics','acrobatics','sleight_of_hand','stealth']+\n",
    "['arcana','history','investigation','nature','religion']+\n",
    "['animal_handling','insight','medicine','perception','survival']+\n",
    "['deception','intimidation','performance','persuasion'])"
   ]
  },
  {
   "cell_type": "code",
   "execution_count": 12,
   "id": "8600c4dc-bb99-4bbe-8996-2c9339ad7019",
   "metadata": {},
   "outputs": [],
   "source": [
    "n= 1000 \n",
    "perc_list= [1,\n",
    "    10,\n",
    "    25,\n",
    "    33,\n",
    "    50,\n",
    "    66,\n",
    "    75,\n",
    "    90,\n",
    "    99]\n",
    "\n",
    "macro = pd.DataFrame(columns=['PC','Skill']+[str(x) for x in perc_list])\n",
    "#iterate through party\n",
    "for P in Party:\n",
    "    P.advantage_status = \"base\"\n",
    "    micro = []\n",
    "    \n",
    "    #iterate through skills\n",
    "    for skill in Skills:\n",
    "        \n",
    "        #surface amount\n",
    "        skill_holder = [P.Check(skill) for x in range(n)]\n",
    "        \n",
    "        #iterate through percentile\n",
    "        micro_small = []\n",
    "        \n",
    "        #iterate through percentiles\n",
    "        for t in perc_list:\n",
    "            micro_small += [int(np.percentile(skill_holder,t))]\n",
    "            \n",
    "        micro +=[[P.name,skill]+micro_small]\n",
    "    \n",
    "    #concate\n",
    "    micro = pd.DataFrame(micro,columns=['PC','Skill']+[str(x) for x in perc_list])\n",
    "    macro = pd.concat([macro,micro])"
   ]
  },
  {
   "cell_type": "code",
   "execution_count": 13,
   "id": "a7b006a8-71f1-4b35-8dc4-7f54990f4daa",
   "metadata": {},
   "outputs": [],
   "source": [
    "any_pass_advantage = macro.groupby(['Skill']).agg({'1':np.max, \n",
    "                                       '10':np.max, \n",
    "                                       '25':np.max, \n",
    "                                       '33':np.max, \n",
    "                                       '50':np.max, \n",
    "                                       '66':np.max, \n",
    "                                       '75':np.max, \n",
    "                                       '90':np.max, \n",
    "                                       '99':np.max}).reset_index(drop=False)"
   ]
  },
  {
   "cell_type": "markdown",
   "id": "ae3a1c46-a3ae-45d3-87e8-ca905222808a",
   "metadata": {},
   "source": [
    "Advantage"
   ]
  },
  {
   "cell_type": "code",
   "execution_count": 14,
   "id": "19a3abd6-2831-4143-bf08-9c43375c73be",
   "metadata": {},
   "outputs": [
    {
     "data": {
      "text/html": [
       "<div>\n",
       "<style scoped>\n",
       "    .dataframe tbody tr th:only-of-type {\n",
       "        vertical-align: middle;\n",
       "    }\n",
       "\n",
       "    .dataframe tbody tr th {\n",
       "        vertical-align: top;\n",
       "    }\n",
       "\n",
       "    .dataframe thead th {\n",
       "        text-align: right;\n",
       "    }\n",
       "</style>\n",
       "<table border=\"1\" class=\"dataframe\">\n",
       "  <thead>\n",
       "    <tr style=\"text-align: right;\">\n",
       "      <th></th>\n",
       "      <th>Skill</th>\n",
       "      <th>1</th>\n",
       "      <th>10</th>\n",
       "      <th>25</th>\n",
       "      <th>33</th>\n",
       "      <th>50</th>\n",
       "      <th>66</th>\n",
       "      <th>75</th>\n",
       "      <th>90</th>\n",
       "      <th>99</th>\n",
       "    </tr>\n",
       "  </thead>\n",
       "  <tbody>\n",
       "    <tr>\n",
       "      <th>0</th>\n",
       "      <td>acrobatics</td>\n",
       "      <td>10</td>\n",
       "      <td>11</td>\n",
       "      <td>14</td>\n",
       "      <td>16</td>\n",
       "      <td>19</td>\n",
       "      <td>22</td>\n",
       "      <td>24</td>\n",
       "      <td>27</td>\n",
       "      <td>29</td>\n",
       "    </tr>\n",
       "    <tr>\n",
       "      <th>1</th>\n",
       "      <td>animal_handling</td>\n",
       "      <td>6</td>\n",
       "      <td>8</td>\n",
       "      <td>11</td>\n",
       "      <td>12</td>\n",
       "      <td>15</td>\n",
       "      <td>18</td>\n",
       "      <td>20</td>\n",
       "      <td>24</td>\n",
       "      <td>25</td>\n",
       "    </tr>\n",
       "    <tr>\n",
       "      <th>2</th>\n",
       "      <td>arcana</td>\n",
       "      <td>11</td>\n",
       "      <td>12</td>\n",
       "      <td>15</td>\n",
       "      <td>17</td>\n",
       "      <td>21</td>\n",
       "      <td>24</td>\n",
       "      <td>25</td>\n",
       "      <td>28</td>\n",
       "      <td>30</td>\n",
       "    </tr>\n",
       "    <tr>\n",
       "      <th>3</th>\n",
       "      <td>athletics</td>\n",
       "      <td>7</td>\n",
       "      <td>9</td>\n",
       "      <td>12</td>\n",
       "      <td>13</td>\n",
       "      <td>17</td>\n",
       "      <td>20</td>\n",
       "      <td>22</td>\n",
       "      <td>24</td>\n",
       "      <td>26</td>\n",
       "    </tr>\n",
       "    <tr>\n",
       "      <th>4</th>\n",
       "      <td>cha</td>\n",
       "      <td>5</td>\n",
       "      <td>7</td>\n",
       "      <td>10</td>\n",
       "      <td>12</td>\n",
       "      <td>15</td>\n",
       "      <td>18</td>\n",
       "      <td>19</td>\n",
       "      <td>22</td>\n",
       "      <td>24</td>\n",
       "    </tr>\n",
       "  </tbody>\n",
       "</table>\n",
       "</div>"
      ],
      "text/plain": [
       "             Skill   1  10  25  33  50  66  75  90  99\n",
       "0       acrobatics  10  11  14  16  19  22  24  27  29\n",
       "1  animal_handling   6   8  11  12  15  18  20  24  25\n",
       "2           arcana  11  12  15  17  21  24  25  28  30\n",
       "3        athletics   7   9  12  13  17  20  22  24  26\n",
       "4              cha   5   7  10  12  15  18  19  22  24"
      ]
     },
     "execution_count": 14,
     "metadata": {},
     "output_type": "execute_result"
    }
   ],
   "source": [
    "any_pass_advantage[0:5]"
   ]
  },
  {
   "cell_type": "markdown",
   "id": "55039083-1f1d-4851-82a1-b42adbf89007",
   "metadata": {},
   "source": [
    "Base"
   ]
  },
  {
   "cell_type": "code",
   "execution_count": 15,
   "id": "dabfdb8b-93ec-4ccd-9f45-9faa0fb62536",
   "metadata": {},
   "outputs": [
    {
     "ename": "NameError",
     "evalue": "name 'any_pass_base' is not defined",
     "output_type": "error",
     "traceback": [
      "\u001b[0;31m---------------------------------------------------------------------------\u001b[0m",
      "\u001b[0;31mNameError\u001b[0m                                 Traceback (most recent call last)",
      "\u001b[0;32m/tmp/ipykernel_1691/3004039857.py\u001b[0m in \u001b[0;36m<module>\u001b[0;34m\u001b[0m\n\u001b[0;32m----> 1\u001b[0;31m \u001b[0many_pass_base\u001b[0m\u001b[0;34m[\u001b[0m\u001b[0;36m0\u001b[0m\u001b[0;34m:\u001b[0m\u001b[0;36m5\u001b[0m\u001b[0;34m]\u001b[0m\u001b[0;34m\u001b[0m\u001b[0;34m\u001b[0m\u001b[0m\n\u001b[0m",
      "\u001b[0;31mNameError\u001b[0m: name 'any_pass_base' is not defined"
     ]
    }
   ],
   "source": [
    "any_pass_base[0:5]"
   ]
  },
  {
   "cell_type": "markdown",
   "id": "dc2d0c15-d660-4345-bf51-bf9ac875612d",
   "metadata": {},
   "source": [
    "Overall"
   ]
  },
  {
   "cell_type": "code",
   "execution_count": null,
   "id": "942d2ab7-9dc1-4057-9c6c-b89584d16fa6",
   "metadata": {},
   "outputs": [],
   "source": [
    "set(macro['PC'])"
   ]
  },
  {
   "cell_type": "code",
   "execution_count": null,
   "id": "bc0cba06-12ae-4986-9793-4cf6619b8721",
   "metadata": {},
   "outputs": [],
   "source": [
    "set(macro['Skill'])"
   ]
  },
  {
   "cell_type": "code",
   "execution_count": null,
   "id": "0e55b46c-161a-460e-98c1-393ed67adecd",
   "metadata": {},
   "outputs": [],
   "source": [
    "PCIn = 'Harlon'\n",
    "Sin = 'dex'\n",
    "macro[((macro['PC']==PCIn)&(macro['Skill']==Sin))]"
   ]
  },
  {
   "cell_type": "code",
   "execution_count": null,
   "id": "4ee7cf4b-9ce2-4492-bcd8-284f5d7c1b21",
   "metadata": {},
   "outputs": [],
   "source": [
    "smiths tools check "
   ]
  },
  {
   "cell_type": "code",
   "execution_count": null,
   "id": "96a67089-0a17-481b-b317-d092534718e3",
   "metadata": {},
   "outputs": [],
   "source": [
    "macro[((macro['Skill']=='wis'))]"
   ]
  },
  {
   "cell_type": "code",
   "execution_count": null,
   "id": "b6e63d23-aaf9-4d2b-bb7b-e4b2497212d5",
   "metadata": {},
   "outputs": [],
   "source": [
    " "
   ]
  }
 ],
 "metadata": {
  "kernelspec": {
   "display_name": "Python 3",
   "language": "python",
   "name": "python3"
  },
  "language_info": {
   "codemirror_mode": {
    "name": "ipython",
    "version": 3
   },
   "file_extension": ".py",
   "mimetype": "text/x-python",
   "name": "python",
   "nbconvert_exporter": "python",
   "pygments_lexer": "ipython3",
   "version": "3.7.3"
  }
 },
 "nbformat": 4,
 "nbformat_minor": 5
}
